{
 "cells": [
  {
   "metadata": {},
   "cell_type": "markdown",
   "source": [
    "# Report 2: Theft Over Open Data (TOOD)\n",
    "\n",
    "> This file is intended to be used as references for sections 3 - 5 which all involves model training, \n",
    "> testing, and deployment of the model. Creativity and innovation are encouraged for this and other \n",
    "> sections moving forward.\n",
    "\n",
    "**What is the purpose of this file?**\n",
    "\n",
    "This notebook will be covering parts 3-5 of the assignment namely going over the following:\n",
    "1. Predictive Model Building - Building the Predictive Model using Modules within `sklearn`.\n",
    "2. Model Scoring and Evaluation - Evaluation and Scoring of the Model with Training Data.\n",
    "3. Model Deployment - Deployment of the model as `.pkl` files.\n",
    "\n",
    "**NOTE**: The naming of this notebook is intentionally, as it stands for the following:\n",
    "- `c309` - This is the course code COMP309.\n",
    "- `r2` - This is the report number which is report 2 of the group project.\n",
    "- `toodu` - This is the name of the dataset we named and will continue working with in this notebook.\n",
    "- `model` - This is just a generic name but this notebook will contain sections 3 - 5 which all involves model training, testing, and deployment of the model.\n",
    "\n",
    "**NOTE**: Provided below is a notebook that includes the above sections, thoroughly covering all aspects of sections 3-5. When required, there will be additional informaiton and insights throughout the notebook to help understand the specifics of the model, algorithms used, and how we handle imbalanced data when training the model."
   ],
   "id": "526803cd535af350"
  },
  {
   "metadata": {
    "ExecuteTime": {
     "end_time": "2024-12-06T08:05:51.984949Z",
     "start_time": "2024-12-06T08:05:51.982355Z"
    }
   },
   "cell_type": "code",
   "source": [
    "import os\n",
    "import json\n",
    "from datetime import datetime\n",
    "\n",
    "import pandas as pd\n",
    "import numpy as np\n",
    "import matplotlib.pyplot as plt\n",
    "import seaborn as sns"
   ],
   "id": "ffdfd7ff7c9bdb28",
   "outputs": [],
   "execution_count": 1
  },
  {
   "metadata": {
    "ExecuteTime": {
     "end_time": "2024-12-06T08:06:20.281614Z",
     "start_time": "2024-12-06T08:06:20.236846Z"
    }
   },
   "cell_type": "code",
   "source": [
    "DEFAULT_DATA_PATH = os.path.join(os.pardir, \"data\")\n",
    "\n",
    "toodu_ft_df = pd.read_csv(os.path.join(DEFAULT_DATA_PATH, \"Theft_Over_Open_Data_Cleaned.csv\"))"
   ],
   "id": "6dc8c29952b1994f",
   "outputs": [],
   "execution_count": 6
  },
  {
   "metadata": {},
   "cell_type": "markdown",
   "source": [
    "**Observation**: The Theft Over Dataset has a noticeable glaring issue, in that much of its data for different offense overlaps with others making it hard to predict them. As such a decision was made to merge the 6 smaller offence \n",
    "types into Theft Over. This is because many of them are already classified as sub categories of Theft Over. This Dataset sorts into 3 `UCR_CODE` categories. One is for `Theft Over`, the 2nd for `Motor Vehicle Over` and the 3rd for `Shoplifting`. `Shoplifting` however as well, shares many similarities to `Theft Over`, it's difference being that it is a theft attempted from an open retail store of merchandise. However, the two would often target the same types of locations, and the difference in charge is not a meaningful difference from `Theft Over` itself. The only one that truly differentiates itself is Theft From Motor Vehicle Over, the rest almost always being theft from similar locations."
   ],
   "id": "efa8696b62a67282"
  },
  {
   "metadata": {},
   "cell_type": "markdown",
   "source": "**Observation (Continue):** When it comes to features, while many columns appeared as though they would be useful such as using the latitude and longitude columns, or the neighbourhood codes, we found that while when included these had a higher importance than `PREMISES_CODE` or `LOCATION_CODE`, they were also a negative impact on the ability of the model to predict the outcome properly. This appears to be because it would then attempt to associate a neighbourhood with a type of crime which resulted in many improper predictions. However, adding another feature could then cause the model to basically ignore those high importance features. We found that these two features we went with, were the most relevant, and were the features that consistently didn't swing back and forth on importance and stayed very consistent between different feature combinations.",
   "id": "33e37787bc810d51"
  },
  {
   "metadata": {
    "ExecuteTime": {
     "end_time": "2024-12-06T08:06:21.344769Z",
     "start_time": "2024-12-06T08:06:21.335931Z"
    }
   },
   "cell_type": "code",
   "source": [
    "from sklearn.preprocessing import LabelEncoder, StandardScaler\n",
    "\n",
    "theft_over_categories = {\n",
    "    \"Theft - Misapprop Funds Over\",\n",
    "    \"Theft Over - Bicycle\",\n",
    "    \"Theft Over - Distraction\",\n",
    "    \"Theft Over\",\n",
    "    \"Theft Over - Shoplifting\",\n",
    "    \"Theft Of Utilities Over\",\n",
    "    \"Theft From Mail / Bag / Key\"\n",
    "}\n",
    "\n",
    "toodu_ft_df[\"OFFENCE\"] = toodu_ft_df[\"OFFENCE\"].replace(theft_over_categories, \"Theft Over\")\n",
    "\n",
    "le = LabelEncoder()\n",
    "toodu_ft_df[\"OFFENCE_ENCODED\"] = le.fit_transform(toodu_ft_df[\"OFFENCE\"])\n",
    "\n",
    "categorical_features = [\n",
    "    \"PREMISES_TYPE\",\n",
    "    \"LOCATION_TYPE\",\n",
    "    \"HOOD_158\",\n",
    "]\n",
    "\n",
    "numerical_features = [\n",
    "    \"LONG_WGS84\",\n",
    "    \"LAT_WGS84\",\n",
    "    \"OCC_HOUR\",\n",
    "    \"REPORT_HOUR\",\n",
    "]\n",
    "\n",
    "label_encoders = {}\n",
    "\n",
    "for col in categorical_features:\n",
    "    label_encoders[col] = LabelEncoder()\n",
    "    toodu_ft_df[col] = label_encoders[col].fit_transform(toodu_ft_df[col])"
   ],
   "id": "bebae4abcedfc9a3",
   "outputs": [],
   "execution_count": 7
  },
  {
   "metadata": {
    "ExecuteTime": {
     "end_time": "2024-12-06T08:06:58.620109Z",
     "start_time": "2024-12-06T08:06:58.615078Z"
    }
   },
   "cell_type": "code",
   "source": [
    "features_filtered = toodu_ft_df[categorical_features]\n",
    "features_filtered"
   ],
   "id": "99c3841cdc1bfd04",
   "outputs": [
    {
     "data": {
      "text/plain": [
       "       PREMISES_TYPE  LOCATION_TYPE  HOOD_158\n",
       "0                  1             17       139\n",
       "1                  5             33       158\n",
       "2                  1             17        64\n",
       "3                  0              0       134\n",
       "4                  1             17        42\n",
       "...              ...            ...       ...\n",
       "13951              4             18       149\n",
       "13952              1             17        84\n",
       "13953              5             24       107\n",
       "13954              0              0        84\n",
       "13955              4             27        30\n",
       "\n",
       "[13956 rows x 3 columns]"
      ],
      "text/html": [
       "<div>\n",
       "<style scoped>\n",
       "    .dataframe tbody tr th:only-of-type {\n",
       "        vertical-align: middle;\n",
       "    }\n",
       "\n",
       "    .dataframe tbody tr th {\n",
       "        vertical-align: top;\n",
       "    }\n",
       "\n",
       "    .dataframe thead th {\n",
       "        text-align: right;\n",
       "    }\n",
       "</style>\n",
       "<table border=\"1\" class=\"dataframe\">\n",
       "  <thead>\n",
       "    <tr style=\"text-align: right;\">\n",
       "      <th></th>\n",
       "      <th>PREMISES_TYPE</th>\n",
       "      <th>LOCATION_TYPE</th>\n",
       "      <th>HOOD_158</th>\n",
       "    </tr>\n",
       "  </thead>\n",
       "  <tbody>\n",
       "    <tr>\n",
       "      <th>0</th>\n",
       "      <td>1</td>\n",
       "      <td>17</td>\n",
       "      <td>139</td>\n",
       "    </tr>\n",
       "    <tr>\n",
       "      <th>1</th>\n",
       "      <td>5</td>\n",
       "      <td>33</td>\n",
       "      <td>158</td>\n",
       "    </tr>\n",
       "    <tr>\n",
       "      <th>2</th>\n",
       "      <td>1</td>\n",
       "      <td>17</td>\n",
       "      <td>64</td>\n",
       "    </tr>\n",
       "    <tr>\n",
       "      <th>3</th>\n",
       "      <td>0</td>\n",
       "      <td>0</td>\n",
       "      <td>134</td>\n",
       "    </tr>\n",
       "    <tr>\n",
       "      <th>4</th>\n",
       "      <td>1</td>\n",
       "      <td>17</td>\n",
       "      <td>42</td>\n",
       "    </tr>\n",
       "    <tr>\n",
       "      <th>...</th>\n",
       "      <td>...</td>\n",
       "      <td>...</td>\n",
       "      <td>...</td>\n",
       "    </tr>\n",
       "    <tr>\n",
       "      <th>13951</th>\n",
       "      <td>4</td>\n",
       "      <td>18</td>\n",
       "      <td>149</td>\n",
       "    </tr>\n",
       "    <tr>\n",
       "      <th>13952</th>\n",
       "      <td>1</td>\n",
       "      <td>17</td>\n",
       "      <td>84</td>\n",
       "    </tr>\n",
       "    <tr>\n",
       "      <th>13953</th>\n",
       "      <td>5</td>\n",
       "      <td>24</td>\n",
       "      <td>107</td>\n",
       "    </tr>\n",
       "    <tr>\n",
       "      <th>13954</th>\n",
       "      <td>0</td>\n",
       "      <td>0</td>\n",
       "      <td>84</td>\n",
       "    </tr>\n",
       "    <tr>\n",
       "      <th>13955</th>\n",
       "      <td>4</td>\n",
       "      <td>27</td>\n",
       "      <td>30</td>\n",
       "    </tr>\n",
       "  </tbody>\n",
       "</table>\n",
       "<p>13956 rows × 3 columns</p>\n",
       "</div>"
      ]
     },
     "execution_count": 14,
     "metadata": {},
     "output_type": "execute_result"
    }
   ],
   "execution_count": 14
  },
  {
   "metadata": {
    "ExecuteTime": {
     "end_time": "2024-12-06T08:06:25.138195Z",
     "start_time": "2024-12-06T08:06:25.134557Z"
    }
   },
   "cell_type": "code",
   "source": [
    "target_filtered = toodu_ft_df[\"OFFENCE_ENCODED\"]\n",
    "target_filtered"
   ],
   "id": "157ad8730fa2bf5c",
   "outputs": [
    {
     "data": {
      "text/plain": [
       "0        1\n",
       "1        1\n",
       "2        1\n",
       "3        1\n",
       "4        1\n",
       "        ..\n",
       "13951    1\n",
       "13952    1\n",
       "13953    0\n",
       "13954    1\n",
       "13955    1\n",
       "Name: OFFENCE_ENCODED, Length: 13956, dtype: int64"
      ]
     },
     "execution_count": 9,
     "metadata": {},
     "output_type": "execute_result"
    }
   ],
   "execution_count": 9
  },
  {
   "metadata": {
    "ExecuteTime": {
     "end_time": "2024-12-06T08:07:54.441294Z",
     "start_time": "2024-12-06T08:07:54.433573Z"
    }
   },
   "cell_type": "code",
   "source": [
    "scaler = StandardScaler()\n",
    "\n",
    "toodu_ft_df[numerical_features] = scaler.fit_transform(toodu_ft_df[numerical_features])\n",
    "features_filtered = toodu_ft_df[categorical_features + numerical_features]\n",
    "features_filtered"
   ],
   "id": "3d1916584ec5949c",
   "outputs": [
    {
     "data": {
      "text/plain": [
       "       PREMISES_TYPE  LOCATION_TYPE  HOOD_158  LONG_WGS84  LAT_WGS84  \\\n",
       "0                  1             17       139   -0.120239   0.147608   \n",
       "1                  5             33       158    7.404010  -7.404004   \n",
       "2                  1             17        64   -0.128585   0.128547   \n",
       "3                  0              0       134   -0.135442   0.147352   \n",
       "4                  1             17        42   -0.128736   0.147478   \n",
       "...              ...            ...       ...         ...        ...   \n",
       "13951              4             18       149   -0.134030   0.122907   \n",
       "13952              1             17        84   -0.133221   0.129107   \n",
       "13953              5             24       107   -0.123229   0.138404   \n",
       "13954              0              0        84   -0.133784   0.130169   \n",
       "13955              4             27        30   -0.139810   0.146369   \n",
       "\n",
       "       OCC_HOUR  REPORT_HOUR  \n",
       "0      1.571788     2.099798  \n",
       "1     -1.206015    -1.933282  \n",
       "2      0.840787     1.250729  \n",
       "3     -1.498415     2.099798  \n",
       "4      1.133187     1.462996  \n",
       "...         ...          ...  \n",
       "13951 -0.328814    -0.659678  \n",
       "13952 -0.328814    -0.022875  \n",
       "13953 -0.767414    -0.871945  \n",
       "13954 -1.790815    -1.084212  \n",
       "13955  0.255986    -0.447410  \n",
       "\n",
       "[13956 rows x 7 columns]"
      ],
      "text/html": [
       "<div>\n",
       "<style scoped>\n",
       "    .dataframe tbody tr th:only-of-type {\n",
       "        vertical-align: middle;\n",
       "    }\n",
       "\n",
       "    .dataframe tbody tr th {\n",
       "        vertical-align: top;\n",
       "    }\n",
       "\n",
       "    .dataframe thead th {\n",
       "        text-align: right;\n",
       "    }\n",
       "</style>\n",
       "<table border=\"1\" class=\"dataframe\">\n",
       "  <thead>\n",
       "    <tr style=\"text-align: right;\">\n",
       "      <th></th>\n",
       "      <th>PREMISES_TYPE</th>\n",
       "      <th>LOCATION_TYPE</th>\n",
       "      <th>HOOD_158</th>\n",
       "      <th>LONG_WGS84</th>\n",
       "      <th>LAT_WGS84</th>\n",
       "      <th>OCC_HOUR</th>\n",
       "      <th>REPORT_HOUR</th>\n",
       "    </tr>\n",
       "  </thead>\n",
       "  <tbody>\n",
       "    <tr>\n",
       "      <th>0</th>\n",
       "      <td>1</td>\n",
       "      <td>17</td>\n",
       "      <td>139</td>\n",
       "      <td>-0.120239</td>\n",
       "      <td>0.147608</td>\n",
       "      <td>1.571788</td>\n",
       "      <td>2.099798</td>\n",
       "    </tr>\n",
       "    <tr>\n",
       "      <th>1</th>\n",
       "      <td>5</td>\n",
       "      <td>33</td>\n",
       "      <td>158</td>\n",
       "      <td>7.404010</td>\n",
       "      <td>-7.404004</td>\n",
       "      <td>-1.206015</td>\n",
       "      <td>-1.933282</td>\n",
       "    </tr>\n",
       "    <tr>\n",
       "      <th>2</th>\n",
       "      <td>1</td>\n",
       "      <td>17</td>\n",
       "      <td>64</td>\n",
       "      <td>-0.128585</td>\n",
       "      <td>0.128547</td>\n",
       "      <td>0.840787</td>\n",
       "      <td>1.250729</td>\n",
       "    </tr>\n",
       "    <tr>\n",
       "      <th>3</th>\n",
       "      <td>0</td>\n",
       "      <td>0</td>\n",
       "      <td>134</td>\n",
       "      <td>-0.135442</td>\n",
       "      <td>0.147352</td>\n",
       "      <td>-1.498415</td>\n",
       "      <td>2.099798</td>\n",
       "    </tr>\n",
       "    <tr>\n",
       "      <th>4</th>\n",
       "      <td>1</td>\n",
       "      <td>17</td>\n",
       "      <td>42</td>\n",
       "      <td>-0.128736</td>\n",
       "      <td>0.147478</td>\n",
       "      <td>1.133187</td>\n",
       "      <td>1.462996</td>\n",
       "    </tr>\n",
       "    <tr>\n",
       "      <th>...</th>\n",
       "      <td>...</td>\n",
       "      <td>...</td>\n",
       "      <td>...</td>\n",
       "      <td>...</td>\n",
       "      <td>...</td>\n",
       "      <td>...</td>\n",
       "      <td>...</td>\n",
       "    </tr>\n",
       "    <tr>\n",
       "      <th>13951</th>\n",
       "      <td>4</td>\n",
       "      <td>18</td>\n",
       "      <td>149</td>\n",
       "      <td>-0.134030</td>\n",
       "      <td>0.122907</td>\n",
       "      <td>-0.328814</td>\n",
       "      <td>-0.659678</td>\n",
       "    </tr>\n",
       "    <tr>\n",
       "      <th>13952</th>\n",
       "      <td>1</td>\n",
       "      <td>17</td>\n",
       "      <td>84</td>\n",
       "      <td>-0.133221</td>\n",
       "      <td>0.129107</td>\n",
       "      <td>-0.328814</td>\n",
       "      <td>-0.022875</td>\n",
       "    </tr>\n",
       "    <tr>\n",
       "      <th>13953</th>\n",
       "      <td>5</td>\n",
       "      <td>24</td>\n",
       "      <td>107</td>\n",
       "      <td>-0.123229</td>\n",
       "      <td>0.138404</td>\n",
       "      <td>-0.767414</td>\n",
       "      <td>-0.871945</td>\n",
       "    </tr>\n",
       "    <tr>\n",
       "      <th>13954</th>\n",
       "      <td>0</td>\n",
       "      <td>0</td>\n",
       "      <td>84</td>\n",
       "      <td>-0.133784</td>\n",
       "      <td>0.130169</td>\n",
       "      <td>-1.790815</td>\n",
       "      <td>-1.084212</td>\n",
       "    </tr>\n",
       "    <tr>\n",
       "      <th>13955</th>\n",
       "      <td>4</td>\n",
       "      <td>27</td>\n",
       "      <td>30</td>\n",
       "      <td>-0.139810</td>\n",
       "      <td>0.146369</td>\n",
       "      <td>0.255986</td>\n",
       "      <td>-0.447410</td>\n",
       "    </tr>\n",
       "  </tbody>\n",
       "</table>\n",
       "<p>13956 rows × 7 columns</p>\n",
       "</div>"
      ]
     },
     "execution_count": 17,
     "metadata": {},
     "output_type": "execute_result"
    }
   ],
   "execution_count": 17
  },
  {
   "metadata": {
    "ExecuteTime": {
     "end_time": "2024-12-06T08:07:56.486567Z",
     "start_time": "2024-12-06T08:07:56.481766Z"
    }
   },
   "cell_type": "code",
   "source": [
    "from sklearn.model_selection import train_test_split\n",
    "from sklearn.linear_model import LogisticRegression\n",
    "from sklearn.tree import DecisionTreeClassifier\n",
    "from sklearn.ensemble import RandomForestClassifier\n",
    "\n",
    "x_train, x_test, y_train, y_test = train_test_split(features_filtered, target_filtered, test_size=0.2, random_state=42)"
   ],
   "id": "b0ecf3f93d476ce8",
   "outputs": [],
   "execution_count": 18
  },
  {
   "metadata": {
    "ExecuteTime": {
     "end_time": "2024-12-06T08:07:59.587386Z",
     "start_time": "2024-12-06T08:07:58.250263Z"
    }
   },
   "cell_type": "code",
   "source": "!pip install imbalanced-learn",
   "id": "9d619b703f81d8bf",
   "outputs": [
    {
     "name": "stdout",
     "output_type": "stream",
     "text": [
      "Requirement already satisfied: imbalanced-learn in c:\\users\\dom\\.virtualenvs\\groupmodel-xt492m_j\\lib\\site-packages (0.12.4)\n",
      "Requirement already satisfied: numpy>=1.17.3 in c:\\users\\dom\\.virtualenvs\\groupmodel-xt492m_j\\lib\\site-packages (from imbalanced-learn) (2.1.3)\n",
      "Requirement already satisfied: scipy>=1.5.0 in c:\\users\\dom\\.virtualenvs\\groupmodel-xt492m_j\\lib\\site-packages (from imbalanced-learn) (1.14.1)\n",
      "Requirement already satisfied: scikit-learn>=1.0.2 in c:\\users\\dom\\.virtualenvs\\groupmodel-xt492m_j\\lib\\site-packages (from imbalanced-learn) (1.5.2)\n",
      "Requirement already satisfied: joblib>=1.1.1 in c:\\users\\dom\\.virtualenvs\\groupmodel-xt492m_j\\lib\\site-packages (from imbalanced-learn) (1.4.2)\n",
      "Requirement already satisfied: threadpoolctl>=2.0.0 in c:\\users\\dom\\.virtualenvs\\groupmodel-xt492m_j\\lib\\site-packages (from imbalanced-learn) (3.5.0)\n"
     ]
    }
   ],
   "execution_count": 19
  },
  {
   "metadata": {
    "ExecuteTime": {
     "end_time": "2024-12-06T08:08:01.235281Z",
     "start_time": "2024-12-06T08:08:00.655456Z"
    }
   },
   "cell_type": "code",
   "source": [
    "from imblearn.over_sampling import SMOTENC\n",
    "from imblearn.under_sampling import RandomUnderSampler\n",
    "\n",
    "target_offences = [\"Theft From Motor Vehicle Over\", \"Theft Over\"]\n",
    "mask = y_train.isin([le.transform([offense])[0] for offense in target_offences])\n",
    "\n",
    "categorical_indices = [features_filtered.columns.get_loc(col) for col in categorical_features]\n",
    "smote_nc = SMOTENC(categorical_features=categorical_indices, random_state=42)\n",
    "\n",
    "x_resampled, y_resampled = smote_nc.fit_resample(features_filtered, target_filtered)\n",
    "\n",
    "x_other = x_train[~mask]\n",
    "y_other = y_train[~mask]\n",
    "\n",
    "x_train_balanced = np.vstack((x_other, x_resampled))\n",
    "y_train_balanced = np.hstack((y_other, y_resampled))\n",
    "\n",
    "x_train, y_train = x_train_balanced, y_train_balanced"
   ],
   "id": "c6c30d00addb1dfb",
   "outputs": [],
   "execution_count": 20
  },
  {
   "metadata": {
    "ExecuteTime": {
     "end_time": "2024-12-06T08:08:06.164151Z",
     "start_time": "2024-12-06T08:08:06.158944Z"
    }
   },
   "cell_type": "code",
   "source": [
    "SAMPLES_PER_CLASS = 1500\n",
    "\n",
    "unique_classes = np.unique(y_train).tolist()\n",
    "sampling_strategy = {cls: min(SAMPLES_PER_CLASS, (y_train == cls).sum()) for cls in unique_classes}\n",
    "\n",
    "under_sampler = RandomUnderSampler(sampling_strategy=sampling_strategy, random_state=42)\n",
    "x_train, y_train = under_sampler.fit_resample(x_train, y_train)"
   ],
   "id": "96c2040425d48f4b",
   "outputs": [],
   "execution_count": 21
  },
  {
   "metadata": {
    "ExecuteTime": {
     "end_time": "2024-12-06T08:15:09.190152Z",
     "start_time": "2024-12-06T08:15:09.187077Z"
    }
   },
   "cell_type": "code",
   "source": [
    "# This code returns it all to a DataFrame\n",
    "x_train = pd.DataFrame(x_train, columns=categorical_features + numerical_features)\n"
   ],
   "id": "b8baad3a5d6bcd3a",
   "outputs": [],
   "execution_count": 54
  },
  {
   "metadata": {
    "ExecuteTime": {
     "end_time": "2024-12-06T08:15:12.313393Z",
     "start_time": "2024-12-06T08:15:12.071141Z"
    }
   },
   "cell_type": "code",
   "source": [
    "# NOTE: Start of Model Creating and Training\n",
    "\n",
    "# Model: LogisticRegression\n",
    "# NOTE: Also can add the following: n_jobs=5, C=100 | C=0.01\n",
    "# Logistic Model\n",
    "model = LogisticRegression(solver=\"liblinear\", random_state=42)\n",
    "model.fit(x_train, y_train)\n",
    "\n",
    "# Decision Tree Model\n",
    "model_dt = DecisionTreeClassifier(criterion=\"entropy\", min_samples_split=20, random_state=42)\n",
    "model_dt.fit(x_train, y_train)\n",
    "\n",
    "# Random Forest Model\n",
    "model_rfc = RandomForestClassifier(random_state=42)\n",
    "model_rfc.fit(x_train, y_train)\n",
    "\n",
    "score_model = lambda model, x_test, y_test: model.score(x_test, y_test)"
   ],
   "id": "e818b270c601a26a",
   "outputs": [],
   "execution_count": 56
  },
  {
   "metadata": {
    "ExecuteTime": {
     "end_time": "2024-12-06T08:15:13.034231Z",
     "start_time": "2024-12-06T08:15:13.030325Z"
    }
   },
   "cell_type": "code",
   "source": [
    "# Score Model: LogisticRegression\n",
    "score_model(model, x_test=x_test, y_test=y_test)"
   ],
   "id": "cd952b0b6d20fb20",
   "outputs": [
    {
     "data": {
      "text/plain": [
       "0.7646848137535817"
      ]
     },
     "execution_count": 57,
     "metadata": {},
     "output_type": "execute_result"
    }
   ],
   "execution_count": 57
  },
  {
   "metadata": {
    "ExecuteTime": {
     "end_time": "2024-12-06T08:15:14.167212Z",
     "start_time": "2024-12-06T08:15:14.163035Z"
    }
   },
   "cell_type": "code",
   "source": [
    "# Score Model: DecisionTreeClassifier\n",
    "score_model(model_dt, x_test=x_test, y_test=y_test)"
   ],
   "id": "ee7c2052778d1d7c",
   "outputs": [
    {
     "data": {
      "text/plain": [
       "0.7851002865329513"
      ]
     },
     "execution_count": 58,
     "metadata": {},
     "output_type": "execute_result"
    }
   ],
   "execution_count": 58
  },
  {
   "metadata": {
    "ExecuteTime": {
     "end_time": "2024-12-06T08:15:18.315943Z",
     "start_time": "2024-12-06T08:15:18.294178Z"
    }
   },
   "cell_type": "code",
   "source": [
    "# Score Model: RandomForestClassifier\n",
    "score_model(model_rfc, x_test=x_test, y_test=y_test)"
   ],
   "id": "3e6b23b9fad3aed3",
   "outputs": [
    {
     "data": {
      "text/plain": [
       "0.8481375358166189"
      ]
     },
     "execution_count": 59,
     "metadata": {},
     "output_type": "execute_result"
    }
   ],
   "execution_count": 59
  },
  {
   "metadata": {
    "ExecuteTime": {
     "end_time": "2024-12-06T08:15:19.784791Z",
     "start_time": "2024-12-06T08:15:19.782077Z"
    }
   },
   "cell_type": "code",
   "source": [
    "def check_model_json_exists(existing_models, model_name):\n",
    "    return any(m.get(\"model\") == model_name for m in existing_models)"
   ],
   "id": "6b93ac6f877c7046",
   "outputs": [],
   "execution_count": 60
  },
  {
   "metadata": {
    "ExecuteTime": {
     "end_time": "2024-12-06T08:15:20.896176Z",
     "start_time": "2024-12-06T08:15:20.891311Z"
    }
   },
   "cell_type": "code",
   "source": [
    "# NOTE: Start of Model Scoring and Evaluation (Classification Reports)\n",
    "from sklearn.metrics import classification_report, accuracy_score\n",
    "import pickle\n",
    "\n",
    "SAVE_DIR = os.path.join(os.pardir, \"models\", \"\")\n",
    "\n",
    "def evaluate_and_save_model(model, x_train, x_test, y_train, y_test, file_name):\n",
    "    model.fit(x_train, y_train)\n",
    "    \n",
    "    y_pred = model.predict(x_test)\n",
    "    y_pred_proba = model.predict_proba(x_test)[:10]\n",
    "    \n",
    "    y_pred_inverse = le.inverse_transform(y_pred)\n",
    "    y_test_inverse = le.inverse_transform(y_test)\n",
    "    \n",
    "    accuracy = accuracy_score(y_test, y_pred)\n",
    "    \n",
    "    file_path = os.path.join(SAVE_DIR, file_name)\n",
    "    models_json_path = os.path.join(SAVE_DIR, \"models.json\")\n",
    "\n",
    "    \n",
    "    if not os.path.exists(SAVE_DIR):\n",
    "        os.makedirs(SAVE_DIR)\n",
    "    \n",
    "    model_metadata = {\n",
    "        \"model\": model.__class__.__name__,\n",
    "        \"accuracy\": accuracy,\n",
    "        \"timestamp\": datetime.now().strftime(\"%Y-%m-%d %H:%M:%S\"),\n",
    "        \"classification_report\": classification_report(y_test, y_pred, output_dict=True)\n",
    "    }\n",
    "    \n",
    "    \n",
    "    try:\n",
    "        if os.path.exists(models_json_path) and os.path.getsize(models_json_path) > 0:\n",
    "            with open(models_json_path, \"r\") as file:\n",
    "                existing_models = json.load(file)\n",
    "            \n",
    "        else:\n",
    "            existing_models = []\n",
    "\n",
    "        if not check_model_json_exists(\n",
    "                existing_models=existing_models, \n",
    "                model_name=model.__class__.__name__):\n",
    "            existing_models.append(model_metadata)\n",
    "        \n",
    "        with open(models_json_path, \"w\") as file:\n",
    "            json.dump(existing_models, file, indent=4)\n",
    "            \n",
    "        with open(file_path, \"wb\") as file:\n",
    "            pickle.dump(model, file)\n",
    "            \n",
    "    except Exception as e:\n",
    "        print(f\"Error Occurred: {e}\")\n",
    "\n",
    "    print(f\"\"\"\n",
    "    Model: {model.__class__.__name__}\n",
    "    Accuracy: {accuracy:.4f}\n",
    "    Training Accuracy: {model.score(x_train, y_train)}\n",
    "    Classification Report: {classification_report(y_test, y_pred)}\n",
    "    Predictions: {y_pred_inverse}\n",
    "    Prediction Probabilities: {y_pred_proba}\n",
    "    Y Values: {y_test.value_counts()}\n",
    "    ----\n",
    "    Model Saved To: {file_path}\n",
    "    Model Metadata Added To: {models_json_path}\n",
    "    \"\"\")"
   ],
   "id": "fea168864cf809d4",
   "outputs": [],
   "execution_count": 61
  },
  {
   "metadata": {
    "ExecuteTime": {
     "end_time": "2024-12-06T08:15:23.306665Z",
     "start_time": "2024-12-06T08:15:23.291320Z"
    }
   },
   "cell_type": "code",
   "source": [
    "# Save Model: LogisticRegression\n",
    "evaluate_and_save_model(model=model, x_train=x_train, x_test=x_test, y_train=y_train, y_test=y_test, file_name=\"lr_model.pkl\")"
   ],
   "id": "1923d8db9a995158",
   "outputs": [
    {
     "name": "stdout",
     "output_type": "stream",
     "text": [
      "\n",
      "    Model: LogisticRegression\n",
      "    Accuracy: 0.7647\n",
      "    Training Accuracy: 0.7646666666666667\n",
      "    Classification Report:               precision    recall  f1-score   support\n",
      "\n",
      "           0       0.52      0.76      0.62       700\n",
      "           1       0.90      0.77      0.83      2092\n",
      "\n",
      "    accuracy                           0.76      2792\n",
      "   macro avg       0.71      0.76      0.72      2792\n",
      "weighted avg       0.81      0.76      0.78      2792\n",
      "\n",
      "    Predictions: ['Theft Over' 'Theft Over' 'Theft Over' ...\n",
      " 'Theft From Motor Vehicle Over' 'Theft Over'\n",
      " 'Theft From Motor Vehicle Over']\n",
      "    Prediction Probabilities: [[0.32501875 0.67498125]\n",
      " [0.24052515 0.75947485]\n",
      " [0.14468723 0.85531277]\n",
      " [0.27783145 0.72216855]\n",
      " [0.75649011 0.24350989]\n",
      " [0.15211605 0.84788395]\n",
      " [0.22014825 0.77985175]\n",
      " [0.4244271  0.5755729 ]\n",
      " [0.08480009 0.91519991]\n",
      " [0.7219755  0.2780245 ]]\n",
      "    Y Values: OFFENCE_ENCODED\n",
      "1    2092\n",
      "0     700\n",
      "Name: count, dtype: int64\n",
      "    ----\n",
      "    Model Saved To: ..\\models\\lr_model.pkl\n",
      "    Model Metadata Added To: ..\\models\\models.json\n",
      "    \n"
     ]
    }
   ],
   "execution_count": 62
  },
  {
   "metadata": {
    "ExecuteTime": {
     "end_time": "2024-12-06T08:15:24.742090Z",
     "start_time": "2024-12-06T08:15:24.718739Z"
    }
   },
   "cell_type": "code",
   "source": [
    "# Save Model: DecisionTreeClassifier\n",
    "evaluate_and_save_model(model=model_dt, x_train=x_train, x_test=x_test, y_train=y_train, y_test=y_test, file_name=\"dt_model.pkl\")"
   ],
   "id": "d9e52cd468e89ba8",
   "outputs": [
    {
     "name": "stdout",
     "output_type": "stream",
     "text": [
      "\n",
      "    Model: DecisionTreeClassifier\n",
      "    Accuracy: 0.7851\n",
      "    Training Accuracy: 0.891\n",
      "    Classification Report:               precision    recall  f1-score   support\n",
      "\n",
      "           0       0.55      0.76      0.64       700\n",
      "           1       0.91      0.79      0.85      2092\n",
      "\n",
      "    accuracy                           0.79      2792\n",
      "   macro avg       0.73      0.78      0.74      2792\n",
      "weighted avg       0.82      0.79      0.79      2792\n",
      "\n",
      "    Predictions: ['Theft Over' 'Theft Over' 'Theft Over' ...\n",
      " 'Theft From Motor Vehicle Over' 'Theft Over'\n",
      " 'Theft From Motor Vehicle Over']\n",
      "    Prediction Probabilities: [[0.         1.        ]\n",
      " [0.33333333 0.66666667]\n",
      " [0.17647059 0.82352941]\n",
      " [0.21052632 0.78947368]\n",
      " [1.         0.        ]\n",
      " [0.         1.        ]\n",
      " [0.         1.        ]\n",
      " [0.875      0.125     ]\n",
      " [0.         1.        ]\n",
      " [1.         0.        ]]\n",
      "    Y Values: OFFENCE_ENCODED\n",
      "1    2092\n",
      "0     700\n",
      "Name: count, dtype: int64\n",
      "    ----\n",
      "    Model Saved To: ..\\models\\dt_model.pkl\n",
      "    Model Metadata Added To: ..\\models\\models.json\n",
      "    \n"
     ]
    }
   ],
   "execution_count": 63
  },
  {
   "metadata": {
    "ExecuteTime": {
     "end_time": "2024-12-06T08:15:34.833988Z",
     "start_time": "2024-12-06T08:15:34.536616Z"
    }
   },
   "cell_type": "code",
   "source": [
    "# Save Model: RandomForestClassifier\n",
    "evaluate_and_save_model(model=model_rfc, x_train=x_train, x_test=x_test, y_train=y_train, y_test=y_test, file_name=\"rf_model.pkl\")"
   ],
   "id": "725b05021738a92b",
   "outputs": [
    {
     "name": "stdout",
     "output_type": "stream",
     "text": [
      "\n",
      "    Model: RandomForestClassifier\n",
      "    Accuracy: 0.8481\n",
      "    Training Accuracy: 1.0\n",
      "    Classification Report:               precision    recall  f1-score   support\n",
      "\n",
      "           0       0.67      0.79      0.72       700\n",
      "           1       0.93      0.87      0.90      2092\n",
      "\n",
      "    accuracy                           0.85      2792\n",
      "   macro avg       0.80      0.83      0.81      2792\n",
      "weighted avg       0.86      0.85      0.85      2792\n",
      "\n",
      "    Predictions: ['Theft Over' 'Theft Over' 'Theft Over' ... 'Theft Over' 'Theft Over'\n",
      " 'Theft Over']\n",
      "    Prediction Probabilities: [[0.1  0.9 ]\n",
      " [0.25 0.75]\n",
      " [0.13 0.87]\n",
      " [0.34 0.66]\n",
      " [0.95 0.05]\n",
      " [0.   1.  ]\n",
      " [0.03 0.97]\n",
      " [0.71 0.29]\n",
      " [0.03 0.97]\n",
      " [0.57 0.43]]\n",
      "    Y Values: OFFENCE_ENCODED\n",
      "1    2092\n",
      "0     700\n",
      "Name: count, dtype: int64\n",
      "    ----\n",
      "    Model Saved To: ..\\models\\rf_model.pkl\n",
      "    Model Metadata Added To: ..\\models\\models.json\n",
      "    \n"
     ]
    }
   ],
   "execution_count": 66
  },
  {
   "metadata": {
    "ExecuteTime": {
     "end_time": "2024-12-06T08:15:36.513782Z",
     "start_time": "2024-12-06T08:15:36.435003Z"
    }
   },
   "cell_type": "code",
   "source": [
    "# NOTE: Start of Confusion Matrix and Visualizations\n",
    "from sklearn.metrics import confusion_matrix\n",
    "\n",
    "# TODO: Fix this Confusion Matrix!\n",
    "\n",
    "y_pred_dt = model_dt.predict(x_test)\n",
    "cm_dt = confusion_matrix(y_test, y_pred_dt)\n",
    "\n",
    "plt.figure(figsize=(10, 10))\n",
    "sns.heatmap(cm_dt, annot=True, cmap=\"YlOrRd\", fmt=\"d\")\n",
    "plt.title(\"Confusion Matrix of Theft Incidents\")\n",
    "plt.xlabel(\"Predicted\")\n",
    "plt.ylabel(\"Actual\")\n",
    "plt.show()"
   ],
   "id": "24024a9d39b93ae7",
   "outputs": [
    {
     "data": {
      "text/plain": [
       "<Figure size 1000x1000 with 2 Axes>"
      ],
      "image/png": "[encoded data removed]"
     },
     "metadata": {},
     "output_type": "display_data"
    }
   ],
   "execution_count": 67
  },
  {
   "metadata": {
    "ExecuteTime": {
     "end_time": "2024-12-06T08:15:38.492319Z",
     "start_time": "2024-12-06T08:15:38.354773Z"
    }
   },
   "cell_type": "code",
   "source": [
    "# TODO: Fix this Confusion Matrix!\n",
    "\n",
    "y_pred_rfc = model_rfc.predict(x_test)\n",
    "cm_rfc = confusion_matrix(y_test, y_pred_rfc)\n",
    "\n",
    "plt.figure(figsize=(10, 10))\n",
    "sns.heatmap(cm_rfc, annot=True, cmap=\"YlOrRd\", fmt=\"d\")\n",
    "plt.title(\"Confusion Matrix of Theft Incidents\")\n",
    "plt.xlabel(\"Predicted\")\n",
    "plt.ylabel(\"Actual\")\n",
    "plt.show()"
   ],
   "id": "3dfa273712e6f574",
   "outputs": [
    {
     "data": {
      "text/plain": [
       "<Figure size 1000x1000 with 2 Axes>"
      ],
      "image/png": "[encoded data removed]"
     },
     "metadata": {},
     "output_type": "display_data"
    }
   ],
   "execution_count": 68
  },
  {
   "metadata": {
    "ExecuteTime": {
     "end_time": "2024-12-06T08:15:40.421445Z",
     "start_time": "2024-12-06T08:15:40.336139Z"
    }
   },
   "cell_type": "code",
   "source": [
    "# TODO: Fix this Confusion Matrix!\n",
    "\n",
    "y_pref = model.predict(x_test)\n",
    "cm = confusion_matrix(y_test, y_pref)\n",
    "\n",
    "plt.figure(figsize=(10, 10))\n",
    "sns.heatmap(cm, annot=True, cmap=\"YlOrRd\", fmt=\"d\")\n",
    "plt.title(\"Confusion Matrix of Theft Incidents\")\n",
    "plt.xlabel(\"Predicted\")\n",
    "plt.ylabel(\"Actual\")\n",
    "plt.show()"
   ],
   "id": "df7b80b2bf838978",
   "outputs": [
    {
     "data": {
      "text/plain": [
       "<Figure size 1000x1000 with 2 Axes>"
      ],
      "image/png": "[encoded data removed]"
     },
     "metadata": {},
     "output_type": "display_data"
    }
   ],
   "execution_count": 69
  },
  {
   "metadata": {
    "ExecuteTime": {
     "end_time": "2024-12-06T08:15:42.409909Z",
     "start_time": "2024-12-06T08:15:42.406509Z"
    }
   },
   "cell_type": "code",
   "source": [
    "# NOTE: Classification Metrics Function to Calculate Metrics\n",
    "\n",
    "def calculate_classification_metrics(TP, TN, FP, FN):\n",
    "    classification_accuracy = (TP + TN) / float(TP + TN + FP + FN)\n",
    "    classification_error = (FP + FN) / float(TP + TN + FP + FN)\n",
    "    precision_score = TP / float(TP + FP)\n",
    "    recall_score = TP / float(TP + FN)\n",
    "    true_positive_rate = TP / float(TP + FN)\n",
    "    false_positive_rate = FP / float(FP + TN)\n",
    "    \n",
    "    print(f\"\"\"\n",
    "    Classification Accuracy: {classification_accuracy}\n",
    "    Classification Error:    {classification_error}\n",
    "    Precision Score:         {precision_score}\n",
    "    Recall Score:            {recall_score}\n",
    "    True Positive Rate:      {true_positive_rate}\n",
    "    False Positive Rate:     {false_positive_rate}\n",
    "    \"\"\")"
   ],
   "id": "ceadef56499f4b86",
   "outputs": [],
   "execution_count": 70
  },
  {
   "metadata": {
    "ExecuteTime": {
     "end_time": "2024-12-06T08:15:44.511785Z",
     "start_time": "2024-12-06T08:15:44.509108Z"
    }
   },
   "cell_type": "code",
   "source": [
    "# Classification Metrics for Decision Tree Classifier\n",
    "calculate_classification_metrics(\n",
    "    TP=cm_dt[0, 0],\n",
    "    TN=cm_dt[1, 1],\n",
    "    FP=cm_dt[0, 1],\n",
    "    FN=cm_dt[1, 0]\n",
    ")"
   ],
   "id": "c3be28f2370f4c22",
   "outputs": [
    {
     "name": "stdout",
     "output_type": "stream",
     "text": [
      "\n",
      "    Classification Accuracy: 0.7851002865329513\n",
      "    Classification Error:    0.2148997134670487\n",
      "    Precision Score:         0.7571428571428571\n",
      "    Recall Score:            0.5520833333333334\n",
      "    True Positive Rate:      0.5520833333333334\n",
      "    False Positive Rate:     0.0927947598253275\n",
      "    \n"
     ]
    }
   ],
   "execution_count": 71
  },
  {
   "metadata": {
    "ExecuteTime": {
     "end_time": "2024-12-06T08:15:45.860972Z",
     "start_time": "2024-12-06T08:15:45.857311Z"
    }
   },
   "cell_type": "code",
   "source": [
    "# Classification Metrics for Random Forest Classifier\n",
    "calculate_classification_metrics(\n",
    "    TP=cm_rfc[0, 0],\n",
    "    TN=cm_rfc[1, 1],\n",
    "    FP=cm_rfc[0, 1],\n",
    "    FN=cm_rfc[1, 0]\n",
    ")"
   ],
   "id": "572f3e0f34fd33c1",
   "outputs": [
    {
     "name": "stdout",
     "output_type": "stream",
     "text": [
      "\n",
      "    Classification Accuracy: 0.8481375358166189\n",
      "    Classification Error:    0.1518624641833811\n",
      "    Precision Score:         0.79\n",
      "    Recall Score:            0.6662650602409639\n",
      "    True Positive Rate:      0.6662650602409639\n",
      "    False Positive Rate:     0.07492354740061162\n",
      "    \n"
     ]
    }
   ],
   "execution_count": 72
  },
  {
   "metadata": {
    "ExecuteTime": {
     "end_time": "2024-12-06T08:15:47.748223Z",
     "start_time": "2024-12-06T08:15:47.745162Z"
    }
   },
   "cell_type": "code",
   "source": [
    "# Classification Metrics for Logistic Regression\n",
    "calculate_classification_metrics(\n",
    "    TP=cm[0, 0],\n",
    "    TN=cm[1, 1],\n",
    "    FP=cm[0, 1],\n",
    "    FN=cm[1, 0]\n",
    ")"
   ],
   "id": "fa182f6e06189008",
   "outputs": [
    {
     "name": "stdout",
     "output_type": "stream",
     "text": [
      "\n",
      "    Classification Accuracy: 0.7646848137535817\n",
      "    Classification Error:    0.23531518624641834\n",
      "    Precision Score:         0.7557142857142857\n",
      "    Recall Score:            0.5211822660098522\n",
      "    True Positive Rate:      0.5211822660098522\n",
      "    False Positive Rate:     0.09622960045019696\n",
      "    \n"
     ]
    }
   ],
   "execution_count": 73
  },
  {
   "metadata": {
    "ExecuteTime": {
     "end_time": "2024-12-06T08:15:49.264168Z",
     "start_time": "2024-12-06T08:15:49.242930Z"
    }
   },
   "cell_type": "code",
   "source": [
    "# NOTE: Graphviz Implementation for Decision Tree Classifier\n",
    "\n",
    "from sklearn.tree import export_graphviz\n",
    "\n",
    "DOT_PATH = os.path.join(os.pardir, \"img\")\n",
    "try:  \n",
    "    export_graphviz(\n",
    "        model_dt, \n",
    "        out_file=os.path.join(DOT_PATH, \"dt.dot\"), \n",
    "        class_names=[\"Theft Over\", \"Auto Theft\"],\n",
    "        filled=True,\n",
    "        rounded=True,\n",
    "        special_characters=True\n",
    "    )\n",
    "except Exception as e:\n",
    "    print(f\"Error occured while exporting graph: {str(e)}\")"
   ],
   "id": "a8a96603815b615f",
   "outputs": [],
   "execution_count": 74
  },
  {
   "metadata": {
    "ExecuteTime": {
     "end_time": "2024-12-04T02:46:40.631745Z",
     "start_time": "2024-12-04T02:46:40.627884Z"
    }
   },
   "cell_type": "code",
   "source": [
    "# TODO: Feature Importances Here.\n",
    "# TODO: ROC (Receiver Operation Characteristics) Curve Here.\n",
    "# TODO: ORGANIZE EVERYTHING INTO THEIR SEPARATE SECTIONS!!! (SECTIONS 3 - 5)\n",
    "# TODO: Anything Else thats Missing?"
   ],
   "id": "d8616ce2e9ad47a5",
   "outputs": [],
   "execution_count": 70
  },
  {
   "metadata": {
    "ExecuteTime": {
     "end_time": "2024-11-28T16:59:19.892290Z",
     "start_time": "2024-11-28T16:59:19.677963Z"
    }
   },
   "cell_type": "code",
   "source": "toodu_ft_df.to_csv(os.path.join(DEFAULT_DATA_PATH, \"Theft_Over_Data_Cleaned_Encoded.csv\"), index=False)",
   "id": "ea91c26541f6f732",
   "outputs": [],
   "execution_count": 42
  }
 ],
 "metadata": {
  "kernelspec": {
   "display_name": "Python 3",
   "language": "python",
   "name": "python3"
  },
  "language_info": {
   "codemirror_mode": {
    "name": "ipython",
    "version": 2
   },
   "file_extension": ".py",
   "mimetype": "text/x-python",
   "name": "python",
   "nbconvert_exporter": "python",
   "pygments_lexer": "ipython2",
   "version": "2.7.6"
  }
 },
 "nbformat": 4,
 "nbformat_minor": 5
}
