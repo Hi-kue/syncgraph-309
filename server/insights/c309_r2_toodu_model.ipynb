{
 "cells": [
  {
   "metadata": {},
   "cell_type": "markdown",
   "source": [
    "# Report 2: Theft Over Open Data (TOOD)\n",
    "\n",
    "> This file is intended to be used as references for sections 3 - 5 which all involves model training, \n",
    "> testing, and deployment of the model. Creativity and innovation are encouraged for this and other \n",
    "> sections moving forward.\n",
    "\n",
    "**What is the purpose of this file?**\n",
    "\n",
    "This notebook will be covering parts 3-5 of the assignment namely going over the following:\n",
    "1. Predictive Model Building - Building the Predictive Model using Modules within `sklearn`.\n",
    "2. Model Scoring and Evaluation - Evaluation and Scoring of the Model with Training Data.\n",
    "3. Model Deployment - Deployment of the model as `.pkl` files.\n",
    "\n",
    "**NOTE**: The naming of this notebook is intentionally, as it stands for the following:\n",
    "- `c309` - This is the course code COMP309.\n",
    "- `r2` - This is the report number which is report 2 of the group project.\n",
    "- `toodu` - This is the name of the dataset we named and will continue working with in this notebook.\n",
    "- `model` - This is just a generic name but this notebook will contain sections 3 - 5 which all involves model training, testing, and deployment of the model.\n",
    "\n",
    "**NOTE**: Provided below is a notebook that includes the above sections, thoroughly covering all aspects of sections 3-5. When required, there will be additional informaiton and insights throughout the notebook to help understand the specifics of the model, algorithms used, and how we handle imbalanced data when training the model."
   ],
   "id": "526803cd535af350"
  },
  {
   "metadata": {
    "ExecuteTime": {
     "end_time": "2024-11-28T16:05:15.052854Z",
     "start_time": "2024-11-28T16:05:15.050086Z"
    }
   },
   "cell_type": "code",
   "source": [
    "import os\n",
    "import pandas as pd\n",
    "import numpy as np\n",
    "import matplotlib.pyplot as plt\n",
    "import seaborn as sns"
   ],
   "id": "ffdfd7ff7c9bdb28",
   "outputs": [],
   "execution_count": 57
  },
  {
   "metadata": {
    "ExecuteTime": {
     "end_time": "2024-11-28T13:18:12.006085Z",
     "start_time": "2024-11-28T13:18:11.919167Z"
    }
   },
   "cell_type": "code",
   "source": [
    "DEFAULT_DATA_PATH = os.path.join(os.pardir, \"data\")\n",
    "\n",
    "toodu_ft_df = pd.read_csv(os.path.join(DEFAULT_DATA_PATH, \"Theft_Over_Open_Data_Cleaned.csv\"))"
   ],
   "id": "6dc8c29952b1994f",
   "outputs": [],
   "execution_count": 3
  },
  {
   "metadata": {
    "ExecuteTime": {
     "end_time": "2024-11-28T13:21:09.201076Z",
     "start_time": "2024-11-28T13:21:08.961423Z"
    }
   },
   "cell_type": "code",
   "source": [
    "from sklearn.preprocessing import LabelEncoder, StandardScaler\n",
    "\n",
    "theft_over_categories = {\n",
    "    \"Theft - Misapprop Funds Over\",\n",
    "    \"Theft Over - Bicycle\",\n",
    "    \"Theft Over - Distraction\",\n",
    "    \"Theft Over\",\n",
    "    \"Theft Over - Shoplifting\",\n",
    "    \"Theft Of Utilities Over\",\n",
    "    \"Theft From Mail / Bag / Key\"\n",
    "}\n",
    "\n",
    "toodu_ft_df[\"OFFENCE\"] = toodu_ft_df[\"OFFENCE\"].replace(theft_over_categories, \"Theft Over\")\n",
    "\n",
    "le = LabelEncoder()\n",
    "toodu_ft_df[\"OFFENCE_ENCODED\"] = le.fit_transform(toodu_ft_df[\"OFFENCE\"])\n",
    "\n",
    "categorical_features = [\n",
    "    \"PREMISES_TYPE\",\n",
    "    \"LOCATION_TYPE\"\n",
    "]\n",
    "label_encoders = {}\n",
    "\n",
    "for col in categorical_features:\n",
    "    label_encoders[col] = LabelEncoder()\n",
    "    toodu_ft_df[col] = label_encoders[col].fit_transform(toodu_ft_df[col])"
   ],
   "id": "bebae4abcedfc9a3",
   "outputs": [],
   "execution_count": 4
  },
  {
   "metadata": {
    "ExecuteTime": {
     "end_time": "2024-11-28T13:21:41.051687Z",
     "start_time": "2024-11-28T13:21:41.044163Z"
    }
   },
   "cell_type": "code",
   "source": [
    "features_filtered = toodu_ft_df[categorical_features]\n",
    "features_filtered"
   ],
   "id": "99c3841cdc1bfd04",
   "outputs": [
    {
     "data": {
      "text/plain": [
       "       PREMISES_TYPE  LOCATION_TYPE\n",
       "0                  1             17\n",
       "1                  5             33\n",
       "2                  1             17\n",
       "3                  0              0\n",
       "4                  1             17\n",
       "...              ...            ...\n",
       "13951              4             18\n",
       "13952              1             17\n",
       "13953              5             24\n",
       "13954              0              0\n",
       "13955              4             27\n",
       "\n",
       "[13956 rows x 2 columns]"
      ],
      "text/html": [
       "<div>\n",
       "<style scoped>\n",
       "    .dataframe tbody tr th:only-of-type {\n",
       "        vertical-align: middle;\n",
       "    }\n",
       "\n",
       "    .dataframe tbody tr th {\n",
       "        vertical-align: top;\n",
       "    }\n",
       "\n",
       "    .dataframe thead th {\n",
       "        text-align: right;\n",
       "    }\n",
       "</style>\n",
       "<table border=\"1\" class=\"dataframe\">\n",
       "  <thead>\n",
       "    <tr style=\"text-align: right;\">\n",
       "      <th></th>\n",
       "      <th>PREMISES_TYPE</th>\n",
       "      <th>LOCATION_TYPE</th>\n",
       "    </tr>\n",
       "  </thead>\n",
       "  <tbody>\n",
       "    <tr>\n",
       "      <th>0</th>\n",
       "      <td>1</td>\n",
       "      <td>17</td>\n",
       "    </tr>\n",
       "    <tr>\n",
       "      <th>1</th>\n",
       "      <td>5</td>\n",
       "      <td>33</td>\n",
       "    </tr>\n",
       "    <tr>\n",
       "      <th>2</th>\n",
       "      <td>1</td>\n",
       "      <td>17</td>\n",
       "    </tr>\n",
       "    <tr>\n",
       "      <th>3</th>\n",
       "      <td>0</td>\n",
       "      <td>0</td>\n",
       "    </tr>\n",
       "    <tr>\n",
       "      <th>4</th>\n",
       "      <td>1</td>\n",
       "      <td>17</td>\n",
       "    </tr>\n",
       "    <tr>\n",
       "      <th>...</th>\n",
       "      <td>...</td>\n",
       "      <td>...</td>\n",
       "    </tr>\n",
       "    <tr>\n",
       "      <th>13951</th>\n",
       "      <td>4</td>\n",
       "      <td>18</td>\n",
       "    </tr>\n",
       "    <tr>\n",
       "      <th>13952</th>\n",
       "      <td>1</td>\n",
       "      <td>17</td>\n",
       "    </tr>\n",
       "    <tr>\n",
       "      <th>13953</th>\n",
       "      <td>5</td>\n",
       "      <td>24</td>\n",
       "    </tr>\n",
       "    <tr>\n",
       "      <th>13954</th>\n",
       "      <td>0</td>\n",
       "      <td>0</td>\n",
       "    </tr>\n",
       "    <tr>\n",
       "      <th>13955</th>\n",
       "      <td>4</td>\n",
       "      <td>27</td>\n",
       "    </tr>\n",
       "  </tbody>\n",
       "</table>\n",
       "<p>13956 rows × 2 columns</p>\n",
       "</div>"
      ]
     },
     "execution_count": 5,
     "metadata": {},
     "output_type": "execute_result"
    }
   ],
   "execution_count": 5
  },
  {
   "metadata": {
    "ExecuteTime": {
     "end_time": "2024-11-28T13:21:57.522826Z",
     "start_time": "2024-11-28T13:21:57.518528Z"
    }
   },
   "cell_type": "code",
   "source": [
    "target_filtered = toodu_ft_df[\"OFFENCE_ENCODED\"]\n",
    "target_filtered"
   ],
   "id": "157ad8730fa2bf5c",
   "outputs": [
    {
     "data": {
      "text/plain": [
       "0        1\n",
       "1        1\n",
       "2        1\n",
       "3        1\n",
       "4        1\n",
       "        ..\n",
       "13951    1\n",
       "13952    1\n",
       "13953    0\n",
       "13954    1\n",
       "13955    1\n",
       "Name: OFFENCE_ENCODED, Length: 13956, dtype: int32"
      ]
     },
     "execution_count": 6,
     "metadata": {},
     "output_type": "execute_result"
    }
   ],
   "execution_count": 6
  },
  {
   "metadata": {
    "ExecuteTime": {
     "end_time": "2024-11-28T13:23:00.137770Z",
     "start_time": "2024-11-28T13:23:00.131224Z"
    }
   },
   "cell_type": "code",
   "source": [
    "scaler = StandardScaler()\n",
    "\n",
    "numerical_features_sf = scaler.fit_transform(features_filtered)\n",
    "numerical_features_sf"
   ],
   "id": "3d1916584ec5949c",
   "outputs": [
    {
     "data": {
      "text/plain": [
       "array([[-0.72412973, -0.11482834],\n",
       "       [ 1.35806962,  1.22334337],\n",
       "       [-0.72412973, -0.11482834],\n",
       "       ...,\n",
       "       [ 1.35806962,  0.47062179],\n",
       "       [-1.24467957, -1.53663577],\n",
       "       [ 0.83751978,  0.72152898]])"
      ]
     },
     "execution_count": 9,
     "metadata": {},
     "output_type": "execute_result"
    }
   ],
   "execution_count": 9
  },
  {
   "metadata": {
    "ExecuteTime": {
     "end_time": "2024-11-28T13:25:34.429451Z",
     "start_time": "2024-11-28T13:25:34.111705Z"
    }
   },
   "cell_type": "code",
   "source": [
    "from sklearn.model_selection import train_test_split\n",
    "from sklearn.linear_model import LogisticRegression\n",
    "from sklearn.tree import DecisionTreeClassifier, DecisionTreeRegressor\n",
    "from sklearn.model_selection import cross_val_score, cross_val_predict\n",
    "\n",
    "x_train, x_test, y_train, y_test = train_test_split(numerical_features_sf, target_filtered, test_size=0.2, random_state=42)"
   ],
   "id": "b0ecf3f93d476ce8",
   "outputs": [],
   "execution_count": 10
  },
  {
   "metadata": {
    "ExecuteTime": {
     "end_time": "2024-11-28T13:38:43.711290Z",
     "start_time": "2024-11-28T13:38:38.917599Z"
    }
   },
   "cell_type": "code",
   "source": "!pip install imbalanced-learn",
   "id": "9d619b703f81d8bf",
   "outputs": [
    {
     "name": "stdout",
     "output_type": "stream",
     "text": [
      "Collecting imbalanced-learn\n",
      "  Using cached imbalanced_learn-0.12.4-py3-none-any.whl.metadata (8.3 kB)\n",
      "Requirement already satisfied: numpy>=1.17.3 in c:\\users\\lofia\\miniconda3\\lib\\site-packages (from imbalanced-learn) (1.26.4)\n",
      "Requirement already satisfied: scipy>=1.5.0 in c:\\users\\lofia\\appdata\\roaming\\python\\python312\\site-packages (from imbalanced-learn) (1.14.1)\n",
      "Requirement already satisfied: scikit-learn>=1.0.2 in c:\\users\\lofia\\miniconda3\\lib\\site-packages (from imbalanced-learn) (1.5.2)\n",
      "Requirement already satisfied: joblib>=1.1.1 in c:\\users\\lofia\\miniconda3\\lib\\site-packages (from imbalanced-learn) (1.4.2)\n",
      "Requirement already satisfied: threadpoolctl>=2.0.0 in c:\\users\\lofia\\miniconda3\\lib\\site-packages (from imbalanced-learn) (3.5.0)\n",
      "Using cached imbalanced_learn-0.12.4-py3-none-any.whl (258 kB)\n",
      "Installing collected packages: imbalanced-learn\n",
      "Successfully installed imbalanced-learn-0.12.4\n"
     ]
    }
   ],
   "execution_count": 11
  },
  {
   "metadata": {
    "ExecuteTime": {
     "end_time": "2024-11-28T13:40:46.066361Z",
     "start_time": "2024-11-28T13:40:45.626136Z"
    }
   },
   "cell_type": "code",
   "source": [
    "from imblearn.over_sampling import SMOTE\n",
    "from imblearn.under_sampling import RandomUnderSampler\n",
    "\n",
    "# NOTE: We can use a better `sampling_strategy` than just \"auto\"\n",
    "smote = SMOTE(random_state=42, sampling_strategy=\"auto\")\n",
    "x_train, y_train = smote.fit_resample(x_train, y_train)"
   ],
   "id": "c6c30d00addb1dfb",
   "outputs": [],
   "execution_count": 12
  },
  {
   "metadata": {
    "ExecuteTime": {
     "end_time": "2024-11-28T13:42:37.250524Z",
     "start_time": "2024-11-28T13:42:37.242846Z"
    }
   },
   "cell_type": "code",
   "source": [
    "SAMPLES_PER_CLASS = 1500\n",
    "\n",
    "unique_classes = np.unique(y_train).tolist()\n",
    "sampling_strategy = {cls: min(SAMPLES_PER_CLASS, (y_train == cls).sum()) for cls in unique_classes}\n",
    "\n",
    "under_sampler = RandomUnderSampler(sampling_strategy=sampling_strategy, random_state=42)\n",
    "x_train, y_train = under_sampler.fit_resample(x_train, y_train)"
   ],
   "id": "96c2040425d48f4b",
   "outputs": [],
   "execution_count": 13
  },
  {
   "metadata": {
    "ExecuteTime": {
     "end_time": "2024-11-28T13:46:54.692081Z",
     "start_time": "2024-11-28T13:46:54.685794Z"
    }
   },
   "cell_type": "code",
   "source": [
    "# NOTE: Start of Model Creating and Training\n",
    "\n",
    "# NOTE: Also can add the following: n_jobs=5, C=100 | C=0.01\n",
    "model = LogisticRegression(solver=\"liblinear\", random_state=42)\n",
    "model.fit(x_train, y_train)\n",
    "\n",
    "score_model = lambda model, x_test, y_test: model.score(x_test, y_test)\n",
    "score_model(model, x_test, y_test)"
   ],
   "id": "e818b270c601a26a",
   "outputs": [
    {
     "data": {
      "text/plain": [
       "0.7707736389684814"
      ]
     },
     "execution_count": 16,
     "metadata": {},
     "output_type": "execute_result"
    }
   ],
   "execution_count": 16
  },
  {
   "metadata": {
    "ExecuteTime": {
     "end_time": "2024-11-28T16:02:43.118664Z",
     "start_time": "2024-11-28T16:02:43.105942Z"
    }
   },
   "cell_type": "code",
   "source": [
    "# NOTE: Start of Model Scoring and Evaluation (Classification Reports)\n",
    "from sklearn.metrics import classification_report, accuracy_score\n",
    "\n",
    "y_pred = model.predict(x_test)\n",
    "y_pred_proba = model.predict_proba(x_test)[:10]\n",
    "y_pred_inverse = le.inverse_transform(y_pred)\n",
    "y_test_inverse = le.inverse_transform(y_test)\n",
    "\n",
    "print(f\"Classification Report: {classification_report(y_test, y_pred)}\")\n",
    "print(f\"Accuracy Score: {accuracy_score(y_test, y_pred)}\")\n",
    "print(f\"Training Data Score: {model.score(x_train, y_train)}\")\n",
    "print(f\"Testing Data Score (Overall Accuracy): {model.score(x_test, y_test)}\")"
   ],
   "id": "f6fe2946354061e9",
   "outputs": [
    {
     "name": "stdout",
     "output_type": "stream",
     "text": [
      "Classification Report:               precision    recall  f1-score   support\n",
      "\n",
      "           0       0.53      0.68      0.60       700\n",
      "           1       0.88      0.80      0.84      2092\n",
      "\n",
      "    accuracy                           0.77      2792\n",
      "   macro avg       0.71      0.74      0.72      2792\n",
      "weighted avg       0.80      0.77      0.78      2792\n",
      "\n",
      "Accuracy Score: 0.7707736389684814\n",
      "Training Data Score: 0.739\n",
      "Testing Data Score (Overall Accuracy): 0.7707736389684814\n"
     ]
    }
   ],
   "execution_count": 48
  },
  {
   "metadata": {
    "ExecuteTime": {
     "end_time": "2024-11-28T16:02:44.148568Z",
     "start_time": "2024-11-28T16:02:44.141206Z"
    }
   },
   "cell_type": "code",
   "source": "y_test.value_counts()",
   "id": "ac7b0b1f8e417b8c",
   "outputs": [
    {
     "data": {
      "text/plain": [
       "OFFENCE_ENCODED\n",
       "1    2092\n",
       "0     700\n",
       "Name: count, dtype: int64"
      ]
     },
     "execution_count": 49,
     "metadata": {},
     "output_type": "execute_result"
    }
   ],
   "execution_count": 49
  },
  {
   "metadata": {
    "ExecuteTime": {
     "end_time": "2024-11-28T16:02:44.693705Z",
     "start_time": "2024-11-28T16:02:44.689054Z"
    }
   },
   "cell_type": "code",
   "source": "y_pred_proba",
   "id": "fbfac0f269e4f827",
   "outputs": [
    {
     "data": {
      "text/plain": [
       "array([[0.25824655, 0.74175345],\n",
       "       [0.21030188, 0.78969812],\n",
       "       [0.21030188, 0.78969812],\n",
       "       [0.24253091, 0.75746909],\n",
       "       [0.79397944, 0.20602056],\n",
       "       [0.21030188, 0.78969812],\n",
       "       [0.21030188, 0.78969812],\n",
       "       [0.45521018, 0.54478982],\n",
       "       [0.14985842, 0.85014158],\n",
       "       [0.76822739, 0.23177261]])"
      ]
     },
     "execution_count": 50,
     "metadata": {},
     "output_type": "execute_result"
    }
   ],
   "execution_count": 50
  },
  {
   "metadata": {
    "ExecuteTime": {
     "end_time": "2024-11-28T16:02:45.478883Z",
     "start_time": "2024-11-28T16:02:45.475662Z"
    }
   },
   "cell_type": "code",
   "source": [
    "null_accuracy_score = (2092/(2092 + 700))\n",
    "print(f\"Null Accuracy Score: {null_accuracy_score}\")"
   ],
   "id": "e27f4f3aa1ecec8d",
   "outputs": [
    {
     "name": "stdout",
     "output_type": "stream",
     "text": [
      "Null Accuracy Score: 0.7492836676217765\n"
     ]
    }
   ],
   "execution_count": 51
  },
  {
   "metadata": {
    "ExecuteTime": {
     "end_time": "2024-11-28T16:02:46.734256Z",
     "start_time": "2024-11-28T16:02:46.519089Z"
    }
   },
   "cell_type": "code",
   "source": [
    "# NOTE: Start of Confusion Matrix and Visualizations\n",
    "\n",
    "from sklearn.metrics import confusion_matrix\n",
    "\n",
    "# TODO: FIX THE LABELS!\n",
    "cm = confusion_matrix(y_test, y_pred)\n",
    "labels = [\"True Negative\", \"False Positive\", \"False Negative\", \"True Positive\"]\n",
    "\n",
    "plt.figure(figsize=(10, 10))\n",
    "sns.heatmap(cm, annot=True, cmap=\"YlOrRd\", fmt=\"d\")\n",
    "plt.title(\"Confusion Matrix of Theft Incidents\")\n",
    "plt.xlabel(\"Actual\")\n",
    "plt.ylabel(\"Predicted\")\n",
    "plt.xticks([0.5, 1.5], labels[:2],rotation=0)\n",
    "plt.yticks([0.5, 1.5], labels[2:],rotation=90)\n",
    "plt.show()"
   ],
   "id": "24024a9d39b93ae7",
   "outputs": [
    {
     "data": {
      "text/plain": [
       "<Figure size 1000x1000 with 2 Axes>"
      ],
      "image/png": "[encoded data removed]"
     },
     "metadata": {},
     "output_type": "display_data"
    }
   ],
   "execution_count": 52
  },
  {
   "metadata": {
    "ExecuteTime": {
     "end_time": "2024-11-28T16:02:47.405823Z",
     "start_time": "2024-11-28T16:02:47.400423Z"
    }
   },
   "cell_type": "code",
   "source": [
    "# NOTE: Classification Accuracy and Error\n",
    "TP = cm[0, 0]\n",
    "TN = cm[1, 1]\n",
    "FP = cm[0, 1]\n",
    "FN = cm[1, 0]\n",
    "\n",
    "classification_accuracy = (TP + TN) / float(TP + TN + FP + FN)\n",
    "classification_error = (FP + FN) / float(TP + TN + FP + FN)\n",
    "precision_score = TP / float(TP + FP)\n",
    "recall_score = TP / float(TP + FN)\n",
    "true_positive_rate = TP / float(TP + FN)\n",
    "false_positive_rate = FP / float(FP + TN)\n",
    "\n",
    "print(f\"\"\"\n",
    "Classification Accuracy: {classification_accuracy}\n",
    "Classification Error:    {classification_error}\n",
    "Precision Score:         {precision_score}\n",
    "Recall Score:            {recall_score}\n",
    "True Positive Rate:      {true_positive_rate}\n",
    "False Positive Rate:     {false_positive_rate}\n",
    "\"\"\")"
   ],
   "id": "ceadef56499f4b86",
   "outputs": [
    {
     "name": "stdout",
     "output_type": "stream",
     "text": [
      "\n",
      "Classification Accuracy: 0.7707736389684814\n",
      "Classification Error:    0.22922636103151864\n",
      "Precision Score:         0.6814285714285714\n",
      "Recall Score:            0.5335570469798657\n",
      "True Positive Rate:      0.5335570469798657\n",
      "False Positive Rate:     0.11749209694415173\n",
      "\n"
     ]
    }
   ],
   "execution_count": 53
  },
  {
   "metadata": {
    "ExecuteTime": {
     "end_time": "2024-11-28T16:05:00.896355Z",
     "start_time": "2024-11-28T16:05:00.893557Z"
    }
   },
   "cell_type": "code",
   "source": "# TODO: ROC (Receiver Operation Characteristics) Curve Here.",
   "id": "2f14ffb1e0279bdf",
   "outputs": [],
   "execution_count": 55
  },
  {
   "metadata": {
    "ExecuteTime": {
     "end_time": "2024-11-28T16:05:01.436828Z",
     "start_time": "2024-11-28T16:05:01.432783Z"
    }
   },
   "cell_type": "code",
   "source": "# TODO: Feature Importances Here.",
   "id": "d8616ce2e9ad47a5",
   "outputs": [],
   "execution_count": 56
  },
  {
   "metadata": {
    "ExecuteTime": {
     "end_time": "2024-11-28T15:40:51.159445Z",
     "start_time": "2024-11-28T15:40:50.922463Z"
    }
   },
   "cell_type": "code",
   "source": "toodu_ft_df.to_csv(os.path.join(DEFAULT_DATA_PATH, \"Theft_Over_Data_Cleaned_Encoded.csv\"), index=False)",
   "id": "ea91c26541f6f732",
   "outputs": [],
   "execution_count": 26
  }
 ],
 "metadata": {
  "kernelspec": {
   "display_name": "Python 3",
   "language": "python",
   "name": "python3"
  },
  "language_info": {
   "codemirror_mode": {
    "name": "ipython",
    "version": 2
   },
   "file_extension": ".py",
   "mimetype": "text/x-python",
   "name": "python",
   "nbconvert_exporter": "python",
   "pygments_lexer": "ipython2",
   "version": "2.7.6"
  }
 },
 "nbformat": 4,
 "nbformat_minor": 5
}
