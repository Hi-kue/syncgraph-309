{
 "cells": [
  {
   "metadata": {},
   "cell_type": "markdown",
   "source": [
    "# Report 2: Theft Over Open Data (TOOD)\n",
    "\n",
    "> This file is intended to be used as references for sections 3 - 5 which all involves model training, \n",
    "> testing, and deployment of the model. Creativity and innovation are encouraged for this and other \n",
    "> sections moving forward.\n",
    "\n",
    "**What is the purpose of this file?**\n",
    "\n",
    "This notebook will be covering parts 3-5 of the assignment namely going over the following:\n",
    "1. Predictive Model Building - Building the Predictive Model using Modules within `sklearn`.\n",
    "2. Model Scoring and Evaluation - Evaluation and Scoring of the Model with Training Data.\n",
    "3. Model Deployment - Deployment of the model as `.pkl` files.\n",
    "\n",
    "**NOTE**: The naming of this notebook is intentionally, as it stands for the following:\n",
    "- `c309` - This is the course code COMP309.\n",
    "- `r2` - This is the report number which is report 2 of the group project.\n",
    "- `toodu` - This is the name of the dataset we named and will continue working with in this notebook.\n",
    "- `model` - This is just a generic name but this notebook will contain sections 3 - 5 which all involves model training, testing, and deployment of the model.\n",
    "\n",
    "**NOTE**: Provided below is a notebook that includes the above sections, thoroughly covering all aspects of sections 3-5. When required, there will be additional informaiton and insights throughout the notebook to help understand the specifics of the model, algorithms used, and how we handle imbalanced data when training the model."
   ],
   "id": "526803cd535af350"
  },
  {
   "metadata": {
    "ExecuteTime": {
     "end_time": "2024-12-04T01:48:57.164014Z",
     "start_time": "2024-12-04T01:48:57.159367Z"
    }
   },
   "cell_type": "code",
   "source": [
    "import os\n",
    "import json\n",
    "from datetime import datetime\n",
    "\n",
    "import pandas as pd\n",
    "import numpy as np\n",
    "import matplotlib.pyplot as plt\n",
    "import seaborn as sns"
   ],
   "id": "ffdfd7ff7c9bdb28",
   "outputs": [],
   "execution_count": 2
  },
  {
   "metadata": {
    "ExecuteTime": {
     "end_time": "2024-12-04T01:48:57.548659Z",
     "start_time": "2024-12-04T01:48:57.420740Z"
    }
   },
   "cell_type": "code",
   "source": [
    "DEFAULT_DATA_PATH = os.path.join(os.pardir, \"data\")\n",
    "\n",
    "toodu_ft_df = pd.read_csv(os.path.join(DEFAULT_DATA_PATH, \"Theft_Over_Open_Data_Cleaned.csv\"))"
   ],
   "id": "6dc8c29952b1994f",
   "outputs": [],
   "execution_count": 3
  },
  {
   "metadata": {},
   "cell_type": "markdown",
   "source": [
    "**Observation**: The Theft Over Dataset has a noticeable glaring issue, in that much of its data for different offense overlaps with others making it hard to predict them. As such a decision was made to merge the 6 smaller offence \n",
    "types into Theft Over. This is because many of them are already classified as sub categories of Theft Over. This Dataset sorts into 3 `UCR_CODE` categories. One is for `Theft Over`, the 2nd for `Motor Vehicle Over` and the 3rd for `Shoplifting`. `Shoplifting` however as well, shares many similarities to `Theft Over`, it's difference being that it is a theft attempted from an open retail store of merchandise. However, the two would often target the same types of locations, and the difference in charge is not a meaningful difference from `Theft Over` itself. The only one that truly differentiates itself is Theft From Motor Vehicle Over, the rest almost always being theft from similar locations."
   ],
   "id": "efa8696b62a67282"
  },
  {
   "metadata": {
    "ExecuteTime": {
     "end_time": "2024-12-04T01:48:58.814412Z",
     "start_time": "2024-12-04T01:48:58.800132Z"
    }
   },
   "cell_type": "code",
   "source": [
    "from sklearn.preprocessing import LabelEncoder, StandardScaler\n",
    "\n",
    "theft_over_categories = {\n",
    "    \"Theft - Misapprop Funds Over\",\n",
    "    \"Theft Over - Bicycle\",\n",
    "    \"Theft Over - Distraction\",\n",
    "    \"Theft Over\",\n",
    "    \"Theft Over - Shoplifting\",\n",
    "    \"Theft Of Utilities Over\",\n",
    "    \"Theft From Mail / Bag / Key\"\n",
    "}\n",
    "\n",
    "toodu_ft_df[\"OFFENCE\"] = toodu_ft_df[\"OFFENCE\"].replace(theft_over_categories, \"Theft Over\")\n",
    "\n",
    "le = LabelEncoder()\n",
    "toodu_ft_df[\"OFFENCE_ENCODED\"] = le.fit_transform(toodu_ft_df[\"OFFENCE\"])\n",
    "\n",
    "categorical_features = [\n",
    "    \"PREMISES_TYPE\",\n",
    "    \"LOCATION_TYPE\"\n",
    "]\n",
    "label_encoders = {}\n",
    "\n",
    "for col in categorical_features:\n",
    "    label_encoders[col] = LabelEncoder()\n",
    "    toodu_ft_df[col] = label_encoders[col].fit_transform(toodu_ft_df[col])"
   ],
   "id": "bebae4abcedfc9a3",
   "outputs": [],
   "execution_count": 4
  },
  {
   "metadata": {
    "ExecuteTime": {
     "end_time": "2024-12-04T01:48:59.634523Z",
     "start_time": "2024-12-04T01:48:59.619415Z"
    }
   },
   "cell_type": "code",
   "source": [
    "features_filtered = toodu_ft_df[categorical_features]\n",
    "features_filtered"
   ],
   "id": "99c3841cdc1bfd04",
   "outputs": [
    {
     "data": {
      "text/plain": [
       "       PREMISES_TYPE  LOCATION_TYPE\n",
       "0                  1             17\n",
       "1                  5             33\n",
       "2                  1             17\n",
       "3                  0              0\n",
       "4                  1             17\n",
       "...              ...            ...\n",
       "13951              4             18\n",
       "13952              1             17\n",
       "13953              5             24\n",
       "13954              0              0\n",
       "13955              4             27\n",
       "\n",
       "[13956 rows x 2 columns]"
      ],
      "text/html": [
       "<div>\n",
       "<style scoped>\n",
       "    .dataframe tbody tr th:only-of-type {\n",
       "        vertical-align: middle;\n",
       "    }\n",
       "\n",
       "    .dataframe tbody tr th {\n",
       "        vertical-align: top;\n",
       "    }\n",
       "\n",
       "    .dataframe thead th {\n",
       "        text-align: right;\n",
       "    }\n",
       "</style>\n",
       "<table border=\"1\" class=\"dataframe\">\n",
       "  <thead>\n",
       "    <tr style=\"text-align: right;\">\n",
       "      <th></th>\n",
       "      <th>PREMISES_TYPE</th>\n",
       "      <th>LOCATION_TYPE</th>\n",
       "    </tr>\n",
       "  </thead>\n",
       "  <tbody>\n",
       "    <tr>\n",
       "      <th>0</th>\n",
       "      <td>1</td>\n",
       "      <td>17</td>\n",
       "    </tr>\n",
       "    <tr>\n",
       "      <th>1</th>\n",
       "      <td>5</td>\n",
       "      <td>33</td>\n",
       "    </tr>\n",
       "    <tr>\n",
       "      <th>2</th>\n",
       "      <td>1</td>\n",
       "      <td>17</td>\n",
       "    </tr>\n",
       "    <tr>\n",
       "      <th>3</th>\n",
       "      <td>0</td>\n",
       "      <td>0</td>\n",
       "    </tr>\n",
       "    <tr>\n",
       "      <th>4</th>\n",
       "      <td>1</td>\n",
       "      <td>17</td>\n",
       "    </tr>\n",
       "    <tr>\n",
       "      <th>...</th>\n",
       "      <td>...</td>\n",
       "      <td>...</td>\n",
       "    </tr>\n",
       "    <tr>\n",
       "      <th>13951</th>\n",
       "      <td>4</td>\n",
       "      <td>18</td>\n",
       "    </tr>\n",
       "    <tr>\n",
       "      <th>13952</th>\n",
       "      <td>1</td>\n",
       "      <td>17</td>\n",
       "    </tr>\n",
       "    <tr>\n",
       "      <th>13953</th>\n",
       "      <td>5</td>\n",
       "      <td>24</td>\n",
       "    </tr>\n",
       "    <tr>\n",
       "      <th>13954</th>\n",
       "      <td>0</td>\n",
       "      <td>0</td>\n",
       "    </tr>\n",
       "    <tr>\n",
       "      <th>13955</th>\n",
       "      <td>4</td>\n",
       "      <td>27</td>\n",
       "    </tr>\n",
       "  </tbody>\n",
       "</table>\n",
       "<p>13956 rows × 2 columns</p>\n",
       "</div>"
      ]
     },
     "execution_count": 5,
     "metadata": {},
     "output_type": "execute_result"
    }
   ],
   "execution_count": 5
  },
  {
   "metadata": {
    "ExecuteTime": {
     "end_time": "2024-12-04T01:49:00.707268Z",
     "start_time": "2024-12-04T01:49:00.701243Z"
    }
   },
   "cell_type": "code",
   "source": [
    "target_filtered = toodu_ft_df[\"OFFENCE_ENCODED\"]\n",
    "target_filtered"
   ],
   "id": "157ad8730fa2bf5c",
   "outputs": [
    {
     "data": {
      "text/plain": [
       "0        1\n",
       "1        1\n",
       "2        1\n",
       "3        1\n",
       "4        1\n",
       "        ..\n",
       "13951    1\n",
       "13952    1\n",
       "13953    0\n",
       "13954    1\n",
       "13955    1\n",
       "Name: OFFENCE_ENCODED, Length: 13956, dtype: int32"
      ]
     },
     "execution_count": 6,
     "metadata": {},
     "output_type": "execute_result"
    }
   ],
   "execution_count": 6
  },
  {
   "metadata": {
    "ExecuteTime": {
     "end_time": "2024-12-04T01:49:01.618448Z",
     "start_time": "2024-12-04T01:49:01.611636Z"
    }
   },
   "cell_type": "code",
   "source": [
    "scaler = StandardScaler()\n",
    "\n",
    "numerical_features_sf = scaler.fit_transform(features_filtered)\n",
    "numerical_features_sf"
   ],
   "id": "3d1916584ec5949c",
   "outputs": [
    {
     "data": {
      "text/plain": [
       "array([[-0.72412973, -0.11482834],\n",
       "       [ 1.35806962,  1.22334337],\n",
       "       [-0.72412973, -0.11482834],\n",
       "       ...,\n",
       "       [ 1.35806962,  0.47062179],\n",
       "       [-1.24467957, -1.53663577],\n",
       "       [ 0.83751978,  0.72152898]])"
      ]
     },
     "execution_count": 7,
     "metadata": {},
     "output_type": "execute_result"
    }
   ],
   "execution_count": 7
  },
  {
   "metadata": {
    "ExecuteTime": {
     "end_time": "2024-12-04T01:49:08.065077Z",
     "start_time": "2024-12-04T01:49:08.059033Z"
    }
   },
   "cell_type": "code",
   "source": [
    "from sklearn.model_selection import train_test_split\n",
    "from sklearn.linear_model import LogisticRegression\n",
    "from sklearn.tree import DecisionTreeClassifier\n",
    "from sklearn.ensemble import RandomForestClassifier\n",
    "\n",
    "x_train, x_test, y_train, y_test = train_test_split(numerical_features_sf, target_filtered, test_size=0.2, random_state=42)"
   ],
   "id": "b0ecf3f93d476ce8",
   "outputs": [],
   "execution_count": 8
  },
  {
   "metadata": {
    "ExecuteTime": {
     "end_time": "2024-12-04T00:29:03.607718Z",
     "start_time": "2024-12-04T00:29:00.580498Z"
    }
   },
   "cell_type": "code",
   "source": "!pip install imbalanced-learn",
   "id": "9d619b703f81d8bf",
   "outputs": [
    {
     "name": "stdout",
     "output_type": "stream",
     "text": [
      "Requirement already satisfied: imbalanced-learn in c:\\users\\lofia\\miniconda3\\lib\\site-packages (0.12.4)\n",
      "Requirement already satisfied: numpy>=1.17.3 in c:\\users\\lofia\\miniconda3\\lib\\site-packages (from imbalanced-learn) (1.26.4)\n",
      "Requirement already satisfied: scipy>=1.5.0 in c:\\users\\lofia\\appdata\\roaming\\python\\python312\\site-packages (from imbalanced-learn) (1.14.1)\n",
      "Requirement already satisfied: scikit-learn>=1.0.2 in c:\\users\\lofia\\miniconda3\\lib\\site-packages (from imbalanced-learn) (1.5.2)\n",
      "Requirement already satisfied: joblib>=1.1.1 in c:\\users\\lofia\\miniconda3\\lib\\site-packages (from imbalanced-learn) (1.4.2)\n",
      "Requirement already satisfied: threadpoolctl>=2.0.0 in c:\\users\\lofia\\miniconda3\\lib\\site-packages (from imbalanced-learn) (3.5.0)\n"
     ]
    }
   ],
   "execution_count": 32
  },
  {
   "metadata": {
    "ExecuteTime": {
     "end_time": "2024-12-04T01:49:11.544089Z",
     "start_time": "2024-12-04T01:49:11.318892Z"
    }
   },
   "cell_type": "code",
   "source": [
    "from imblearn.over_sampling import SMOTE\n",
    "from imblearn.under_sampling import RandomUnderSampler\n",
    "\n",
    "# NOTE: We can use a better `sampling_strategy` than just \"auto\"\n",
    "smote = SMOTE(random_state=42, sampling_strategy=\"auto\")\n",
    "x_train, y_train = smote.fit_resample(x_train, y_train)"
   ],
   "id": "c6c30d00addb1dfb",
   "outputs": [],
   "execution_count": 9
  },
  {
   "metadata": {
    "ExecuteTime": {
     "end_time": "2024-12-04T01:49:13.298047Z",
     "start_time": "2024-12-04T01:49:13.290036Z"
    }
   },
   "cell_type": "code",
   "source": [
    "SAMPLES_PER_CLASS = 1500\n",
    "\n",
    "unique_classes = np.unique(y_train).tolist()\n",
    "sampling_strategy = {cls: min(SAMPLES_PER_CLASS, (y_train == cls).sum()) for cls in unique_classes}\n",
    "\n",
    "under_sampler = RandomUnderSampler(sampling_strategy=sampling_strategy, random_state=42)\n",
    "x_train, y_train = under_sampler.fit_resample(x_train, y_train)"
   ],
   "id": "96c2040425d48f4b",
   "outputs": [],
   "execution_count": 10
  },
  {
   "metadata": {
    "ExecuteTime": {
     "end_time": "2024-12-04T02:37:58.397547Z",
     "start_time": "2024-12-04T02:37:58.128436Z"
    }
   },
   "cell_type": "code",
   "source": [
    "# NOTE: Start of Model Creating and Training\n",
    "\n",
    "# Model: LogisticRegression\n",
    "# NOTE: Also can add the following: n_jobs=5, C=100 | C=0.01\n",
    "model = LogisticRegression(solver=\"liblinear\", random_state=42)\n",
    "model.fit(x_train, y_train)\n",
    "\n",
    "# Model: DecisionTreeClassifier\n",
    "model_dt = DecisionTreeClassifier(criterion=\"entropy\", min_samples_split=20, random_state=42)\n",
    "model_dt.fit(x_train, y_train)\n",
    "\n",
    "# Model: RandomForestClassifier\n",
    "model_rfc = RandomForestClassifier(random_state=42)\n",
    "model_rfc.fit(x_train, y_train)\n",
    "\n",
    "score_model = lambda model, x_test, y_test: model.score(x_test, y_test)"
   ],
   "id": "e818b270c601a26a",
   "outputs": [],
   "execution_count": 53
  },
  {
   "metadata": {
    "ExecuteTime": {
     "end_time": "2024-12-04T02:37:59.120186Z",
     "start_time": "2024-12-04T02:37:59.114436Z"
    }
   },
   "cell_type": "code",
   "source": [
    "# Score Model: LogisticRegression\n",
    "score_model(model, x_test=x_test, y_test=y_test)"
   ],
   "id": "cd952b0b6d20fb20",
   "outputs": [
    {
     "data": {
      "text/plain": [
       "0.7707736389684814"
      ]
     },
     "execution_count": 54,
     "metadata": {},
     "output_type": "execute_result"
    }
   ],
   "execution_count": 54
  },
  {
   "metadata": {
    "ExecuteTime": {
     "end_time": "2024-12-04T02:37:59.981260Z",
     "start_time": "2024-12-04T02:37:59.973195Z"
    }
   },
   "cell_type": "code",
   "source": [
    "# Score Model: DecisionTreeClassifier\n",
    "score_model(model_dt, x_test=x_test, y_test=y_test)"
   ],
   "id": "ee7c2052778d1d7c",
   "outputs": [
    {
     "data": {
      "text/plain": [
       "0.8151862464183381"
      ]
     },
     "execution_count": 55,
     "metadata": {},
     "output_type": "execute_result"
    }
   ],
   "execution_count": 55
  },
  {
   "metadata": {
    "ExecuteTime": {
     "end_time": "2024-12-04T02:38:00.208215Z",
     "start_time": "2024-12-04T02:38:00.184182Z"
    }
   },
   "cell_type": "code",
   "source": [
    "# Score Model: RandomForestClassifier\n",
    "score_model(model_rfc, x_test=x_test, y_test=y_test)"
   ],
   "id": "3e6b23b9fad3aed3",
   "outputs": [
    {
     "data": {
      "text/plain": [
       "0.8159025787965616"
      ]
     },
     "execution_count": 56,
     "metadata": {},
     "output_type": "execute_result"
    }
   ],
   "execution_count": 56
  },
  {
   "metadata": {
    "ExecuteTime": {
     "end_time": "2024-12-04T02:38:00.703809Z",
     "start_time": "2024-12-04T02:38:00.699797Z"
    }
   },
   "cell_type": "code",
   "source": [
    "def check_model_json_exists(existing_models, model_name):\n",
    "    return any(m.get(\"model\") == model_name for m in existing_models)"
   ],
   "id": "6b93ac6f877c7046",
   "outputs": [],
   "execution_count": 57
  },
  {
   "metadata": {
    "ExecuteTime": {
     "end_time": "2024-12-04T02:38:01.081319Z",
     "start_time": "2024-12-04T02:38:01.070733Z"
    }
   },
   "cell_type": "code",
   "source": [
    "# NOTE: Start of Model Scoring and Evaluation (Classification Reports)\n",
    "from sklearn.metrics import classification_report, accuracy_score\n",
    "import pickle\n",
    "\n",
    "SAVE_DIR = os.path.join(os.pardir, \"models\", \"\")\n",
    "\n",
    "def evaluate_and_save_model(model, x_train, x_test, y_train, y_test, file_name):\n",
    "    model.fit(x_train, y_train)\n",
    "    \n",
    "    y_pred = model.predict(x_test)\n",
    "    y_pred_proba = model.predict_proba(x_test)[:10]\n",
    "    \n",
    "    y_pred_inverse = le.inverse_transform(y_pred)\n",
    "    y_test_inverse = le.inverse_transform(y_test)\n",
    "    \n",
    "    accuracy = accuracy_score(y_test, y_pred)\n",
    "    \n",
    "    file_path = os.path.join(SAVE_DIR, file_name)\n",
    "    models_json_path = os.path.join(SAVE_DIR, \"models.json\")\n",
    "\n",
    "    \n",
    "    if not os.path.exists(SAVE_DIR):\n",
    "        os.makedirs(SAVE_DIR)\n",
    "    \n",
    "    model_metadata = {\n",
    "        \"model\": model.__class__.__name__,\n",
    "        \"accuracy\": accuracy,\n",
    "        \"timestamp\": datetime.now().strftime(\"%Y-%m-%d %H:%M:%S\"),\n",
    "        \"classification_report\": classification_report(y_test, y_pred, output_dict=True)\n",
    "    }\n",
    "    \n",
    "    \n",
    "    try:\n",
    "        if os.path.exists(models_json_path) and os.path.getsize(models_json_path) > 0:\n",
    "            with open(models_json_path, \"r\") as file:\n",
    "                existing_models = json.load(file)\n",
    "            \n",
    "        else:\n",
    "            existing_models = []\n",
    "\n",
    "        if not check_model_json_exists(\n",
    "                existing_models=existing_models, \n",
    "                model_name=model.__class__.__name__):\n",
    "            existing_models.append(model_metadata)\n",
    "        \n",
    "        with open(models_json_path, \"w\") as file:\n",
    "            json.dump(existing_models, file, indent=4)\n",
    "            \n",
    "        with open(file_path, \"wb\") as file:\n",
    "            pickle.dump(model, file)\n",
    "            \n",
    "    except Exception as e:\n",
    "        print(f\"Error Occurred: {e}\")\n",
    "\n",
    "    print(f\"\"\"\n",
    "    Model: {model.__class__.__name__}\n",
    "    Accuracy: {accuracy:.4f}\n",
    "    Training Accuracy: {model.score(x_train, y_train)}\n",
    "    Classification Report: {classification_report(y_test, y_pred)}\n",
    "    Predictions: {y_pred_inverse}\n",
    "    Prediction Probabilities: {y_pred_proba}\n",
    "    Y Values: {y_test.value_counts()}\n",
    "    ----\n",
    "    Model Saved To: {file_path}\n",
    "    Model Metadata Added To: {models_json_path}\n",
    "    \"\"\")"
   ],
   "id": "fea168864cf809d4",
   "outputs": [],
   "execution_count": 58
  },
  {
   "metadata": {
    "ExecuteTime": {
     "end_time": "2024-12-04T02:38:02.082960Z",
     "start_time": "2024-12-04T02:38:02.041437Z"
    }
   },
   "cell_type": "code",
   "source": [
    "# Save Model: LogisticRegression\n",
    "evaluate_and_save_model(model=model, x_train=x_train, x_test=x_test, y_train=y_train, y_test=y_test, file_name=\"lr_model.pkl\")"
   ],
   "id": "1923d8db9a995158",
   "outputs": [
    {
     "name": "stdout",
     "output_type": "stream",
     "text": [
      "\n",
      "    Model: LogisticRegression\n",
      "    Accuracy: 0.7708\n",
      "    Training Accuracy: 0.739\n",
      "    Classification Report:               precision    recall  f1-score   support\n",
      "\n",
      "           0       0.53      0.68      0.60       700\n",
      "           1       0.88      0.80      0.84      2092\n",
      "\n",
      "    accuracy                           0.77      2792\n",
      "   macro avg       0.71      0.74      0.72      2792\n",
      "weighted avg       0.80      0.77      0.78      2792\n",
      "\n",
      "    Predictions: ['Theft Over' 'Theft Over' 'Theft Over' ...\n",
      " 'Theft From Motor Vehicle Over' 'Theft Over' 'Theft Over']\n",
      "    Prediction Probabilities: [[0.25824655 0.74175345]\n",
      " [0.21030188 0.78969812]\n",
      " [0.21030188 0.78969812]\n",
      " [0.24253091 0.75746909]\n",
      " [0.79397944 0.20602056]\n",
      " [0.21030188 0.78969812]\n",
      " [0.21030188 0.78969812]\n",
      " [0.45521018 0.54478982]\n",
      " [0.14985842 0.85014158]\n",
      " [0.76822739 0.23177261]]\n",
      "    Y Values: OFFENCE_ENCODED\n",
      "1    2092\n",
      "0     700\n",
      "Name: count, dtype: int64\n",
      "    ----\n",
      "    Model Saved To: ..\\models\\lr_model.pkl\n",
      "    Model Metadata Added To: ..\\models\\models.json\n",
      "    \n"
     ]
    }
   ],
   "execution_count": 59
  },
  {
   "metadata": {
    "ExecuteTime": {
     "end_time": "2024-12-04T02:38:02.410987Z",
     "start_time": "2024-12-04T02:38:02.378868Z"
    }
   },
   "cell_type": "code",
   "source": [
    "# Save Model: DecisionTreeClassifier\n",
    "evaluate_and_save_model(model=model_dt, x_train=x_train, x_test=x_test, y_train=y_train, y_test=y_test, file_name=\"dt_model.pkl\")"
   ],
   "id": "d9e52cd468e89ba8",
   "outputs": [
    {
     "name": "stdout",
     "output_type": "stream",
     "text": [
      "\n",
      "    Model: DecisionTreeClassifier\n",
      "    Accuracy: 0.8152\n",
      "    Training Accuracy: 0.7776666666666666\n",
      "    Classification Report:               precision    recall  f1-score   support\n",
      "\n",
      "           0       0.62      0.67      0.65       700\n",
      "           1       0.89      0.86      0.87      2092\n",
      "\n",
      "    accuracy                           0.82      2792\n",
      "   macro avg       0.75      0.77      0.76      2792\n",
      "weighted avg       0.82      0.82      0.82      2792\n",
      "\n",
      "    Predictions: ['Theft Over' 'Theft Over' 'Theft Over' ...\n",
      " 'Theft From Motor Vehicle Over' 'Theft Over' 'Theft Over']\n",
      "    Prediction Probabilities: [[0.04       0.96      ]\n",
      " [0.23234201 0.76765799]\n",
      " [0.23234201 0.76765799]\n",
      " [0.         1.        ]\n",
      " [0.89441748 0.10558252]\n",
      " [0.23234201 0.76765799]\n",
      " [0.23234201 0.76765799]\n",
      " [0.48218527 0.51781473]\n",
      " [0.12365591 0.87634409]\n",
      " [0.70380435 0.29619565]]\n",
      "    Y Values: OFFENCE_ENCODED\n",
      "1    2092\n",
      "0     700\n",
      "Name: count, dtype: int64\n",
      "    ----\n",
      "    Model Saved To: ..\\models\\dt_model.pkl\n",
      "    Model Metadata Added To: ..\\models\\models.json\n",
      "    \n"
     ]
    }
   ],
   "execution_count": 60
  },
  {
   "metadata": {
    "ExecuteTime": {
     "end_time": "2024-12-04T02:38:03.287583Z",
     "start_time": "2024-12-04T02:38:02.960702Z"
    }
   },
   "cell_type": "code",
   "source": [
    "# Save Model: RandomForestClassifier\n",
    "evaluate_and_save_model(model=model_rfc, x_train=x_train, x_test=x_test, y_train=y_train, y_test=y_test, file_name=\"rf_model.pkl\")"
   ],
   "id": "725b05021738a92b",
   "outputs": [
    {
     "name": "stdout",
     "output_type": "stream",
     "text": [
      "\n",
      "    Model: RandomForestClassifier\n",
      "    Accuracy: 0.8159\n",
      "    Training Accuracy: 0.7776666666666666\n",
      "    Classification Report:               precision    recall  f1-score   support\n",
      "\n",
      "           0       0.62      0.67      0.65       700\n",
      "           1       0.89      0.86      0.88      2092\n",
      "\n",
      "    accuracy                           0.82      2792\n",
      "   macro avg       0.76      0.77      0.76      2792\n",
      "weighted avg       0.82      0.82      0.82      2792\n",
      "\n",
      "    Predictions: ['Theft Over' 'Theft Over' 'Theft Over' ...\n",
      " 'Theft From Motor Vehicle Over' 'Theft Over' 'Theft Over']\n",
      "    Prediction Probabilities: [[0.03667035 0.96332965]\n",
      " [0.23197316 0.76802684]\n",
      " [0.23197316 0.76802684]\n",
      " [0.         1.        ]\n",
      " [0.89726041 0.10273959]\n",
      " [0.23197316 0.76802684]\n",
      " [0.23197316 0.76802684]\n",
      " [0.48006186 0.51993814]\n",
      " [0.12183222 0.87816778]\n",
      " [0.70507433 0.29492567]]\n",
      "    Y Values: OFFENCE_ENCODED\n",
      "1    2092\n",
      "0     700\n",
      "Name: count, dtype: int64\n",
      "    ----\n",
      "    Model Saved To: ..\\models\\rf_model.pkl\n",
      "    Model Metadata Added To: ..\\models\\models.json\n",
      "    \n"
     ]
    }
   ],
   "execution_count": 61
  },
  {
   "metadata": {
    "ExecuteTime": {
     "end_time": "2024-12-04T02:38:05.118944Z",
     "start_time": "2024-12-04T02:38:04.876940Z"
    }
   },
   "cell_type": "code",
   "source": [
    "# NOTE: Start of Confusion Matrix and Visualizations\n",
    "from sklearn.metrics import confusion_matrix\n",
    "\n",
    "# TODO: Fix this Confusion Matrix!\n",
    "\n",
    "y_pred_dt = model_dt.predict(x_test)\n",
    "cm_dt = confusion_matrix(y_test, y_pred_dt)\n",
    "\n",
    "plt.figure(figsize=(10, 10))\n",
    "sns.heatmap(cm_dt, annot=True, cmap=\"YlOrRd\", fmt=\"d\")\n",
    "plt.title(\"Confusion Matrix of Theft Incidents\")\n",
    "plt.xlabel(\"Predicted\")\n",
    "plt.ylabel(\"Actual\")\n",
    "plt.show()"
   ],
   "id": "24024a9d39b93ae7",
   "outputs": [
    {
     "data": {
      "text/plain": [
       "<Figure size 1000x1000 with 2 Axes>"
      ],
      "image/png": "[encoded data removed]"
     },
     "metadata": {},
     "output_type": "display_data"
    }
   ],
   "execution_count": 62
  },
  {
   "metadata": {
    "ExecuteTime": {
     "end_time": "2024-12-04T02:38:06.191489Z",
     "start_time": "2024-12-04T02:38:05.902069Z"
    }
   },
   "cell_type": "code",
   "source": [
    "# TODO: Fix this Confusion Matrix!\n",
    "\n",
    "y_pred_rfc = model_rfc.predict(x_test)\n",
    "cm_rfc = confusion_matrix(y_test, y_pred_rfc)\n",
    "\n",
    "plt.figure(figsize=(10, 10))\n",
    "sns.heatmap(cm_rfc, annot=True, cmap=\"YlOrRd\", fmt=\"d\")\n",
    "plt.title(\"Confusion Matrix of Theft Incidents\")\n",
    "plt.xlabel(\"Predicted\")\n",
    "plt.ylabel(\"Actual\")\n",
    "plt.show()"
   ],
   "id": "3dfa273712e6f574",
   "outputs": [
    {
     "data": {
      "text/plain": [
       "<Figure size 1000x1000 with 2 Axes>"
      ],
      "image/png": "[encoded data removed]"
     },
     "metadata": {},
     "output_type": "display_data"
    }
   ],
   "execution_count": 63
  },
  {
   "metadata": {
    "ExecuteTime": {
     "end_time": "2024-12-04T02:38:07.136367Z",
     "start_time": "2024-12-04T02:38:06.869247Z"
    }
   },
   "cell_type": "code",
   "source": [
    "# TODO: Fix this Confusion Matrix!\n",
    "\n",
    "y_pref = model.predict(x_test)\n",
    "cm = confusion_matrix(y_test, y_pref)\n",
    "\n",
    "plt.figure(figsize=(10, 10))\n",
    "sns.heatmap(cm, annot=True, cmap=\"YlOrRd\", fmt=\"d\")\n",
    "plt.title(\"Confusion Matrix of Theft Incidents\")\n",
    "plt.xlabel(\"Predicted\")\n",
    "plt.ylabel(\"Actual\")\n",
    "plt.show()"
   ],
   "id": "df7b80b2bf838978",
   "outputs": [
    {
     "data": {
      "text/plain": [
       "<Figure size 1000x1000 with 2 Axes>"
      ],
      "image/png": "[encoded data removed]"
     },
     "metadata": {},
     "output_type": "display_data"
    }
   ],
   "execution_count": 64
  },
  {
   "metadata": {
    "ExecuteTime": {
     "end_time": "2024-12-04T02:38:09.875099Z",
     "start_time": "2024-12-04T02:38:09.869056Z"
    }
   },
   "cell_type": "code",
   "source": [
    "# NOTE: Classification Metrics Function to Calculate Metrics\n",
    "\n",
    "def calculate_classification_metrics(TP, TN, FP, FN):\n",
    "    classification_accuracy = (TP + TN) / float(TP + TN + FP + FN)\n",
    "    classification_error = (FP + FN) / float(TP + TN + FP + FN)\n",
    "    precision_score = TP / float(TP + FP)\n",
    "    recall_score = TP / float(TP + FN)\n",
    "    true_positive_rate = TP / float(TP + FN)\n",
    "    false_positive_rate = FP / float(FP + TN)\n",
    "    \n",
    "    print(f\"\"\"\n",
    "    Classification Accuracy: {classification_accuracy}\n",
    "    Classification Error:    {classification_error}\n",
    "    Precision Score:         {precision_score}\n",
    "    Recall Score:            {recall_score}\n",
    "    True Positive Rate:      {true_positive_rate}\n",
    "    False Positive Rate:     {false_positive_rate}\n",
    "    \"\"\")"
   ],
   "id": "ceadef56499f4b86",
   "outputs": [],
   "execution_count": 65
  },
  {
   "metadata": {
    "ExecuteTime": {
     "end_time": "2024-12-04T02:38:10.224601Z",
     "start_time": "2024-12-04T02:38:10.220450Z"
    }
   },
   "cell_type": "code",
   "source": [
    "# Classification Metrics for Decision Tree Classifier\n",
    "calculate_classification_metrics(\n",
    "    TP=cm_dt[0, 0],\n",
    "    TN=cm_dt[1, 1],\n",
    "    FP=cm_dt[0, 1],\n",
    "    FN=cm_dt[1, 0]\n",
    ")"
   ],
   "id": "c3be28f2370f4c22",
   "outputs": [
    {
     "name": "stdout",
     "output_type": "stream",
     "text": [
      "\n",
      "    Classification Accuracy: 0.8151862464183381\n",
      "    Classification Error:    0.18481375358166188\n",
      "    Precision Score:         0.6742857142857143\n",
      "    Recall Score:            0.6210526315789474\n",
      "    True Positive Rate:      0.6210526315789474\n",
      "    False Positive Rate:     0.11220472440944881\n",
      "    \n"
     ]
    }
   ],
   "execution_count": 66
  },
  {
   "metadata": {
    "ExecuteTime": {
     "end_time": "2024-12-04T02:38:11.667706Z",
     "start_time": "2024-12-04T02:38:11.664522Z"
    }
   },
   "cell_type": "code",
   "source": [
    "# Classification Metrics for Random Forest Classifier\n",
    "calculate_classification_metrics(\n",
    "    TP=cm_rfc[0, 0],\n",
    "    TN=cm_rfc[1, 1],\n",
    "    FP=cm_rfc[0, 1],\n",
    "    FN=cm_rfc[1, 0]\n",
    ")"
   ],
   "id": "572f3e0f34fd33c1",
   "outputs": [
    {
     "name": "stdout",
     "output_type": "stream",
     "text": [
      "\n",
      "    Classification Accuracy: 0.8159025787965616\n",
      "    Classification Error:    0.1840974212034384\n",
      "    Precision Score:         0.6742857142857143\n",
      "    Recall Score:            0.6226912928759895\n",
      "    True Positive Rate:      0.6226912928759895\n",
      "    False Positive Rate:     0.11209439528023599\n",
      "    \n"
     ]
    }
   ],
   "execution_count": 67
  },
  {
   "metadata": {
    "ExecuteTime": {
     "end_time": "2024-12-04T02:38:17.892214Z",
     "start_time": "2024-12-04T02:38:17.884895Z"
    }
   },
   "cell_type": "code",
   "source": [
    "# Classification Metrics for Logistic Regression\n",
    "\n",
    "calculate_classification_metrics(\n",
    "    TP=cm[0, 0],\n",
    "    TN=cm[1, 1],\n",
    "    FP=cm[0, 1],\n",
    "    FN=cm[1, 0]\n",
    ")"
   ],
   "id": "fa182f6e06189008",
   "outputs": [
    {
     "name": "stdout",
     "output_type": "stream",
     "text": [
      "\n",
      "    Classification Accuracy: 0.7707736389684814\n",
      "    Classification Error:    0.22922636103151864\n",
      "    Precision Score:         0.6814285714285714\n",
      "    Recall Score:            0.5335570469798657\n",
      "    True Positive Rate:      0.5335570469798657\n",
      "    False Positive Rate:     0.11749209694415173\n",
      "    \n"
     ]
    }
   ],
   "execution_count": 68
  },
  {
   "metadata": {
    "ExecuteTime": {
     "end_time": "2024-12-04T02:38:29.254878Z",
     "start_time": "2024-12-04T02:38:29.246039Z"
    }
   },
   "cell_type": "code",
   "source": [
    "# NOTE: Graphviz Implementation for Decision Tree Classifier\n",
    "\n",
    "from sklearn.tree import export_graphviz\n",
    "\n",
    "DOT_PATH = os.path.join(os.pardir, \"img\")\n",
    "try:  \n",
    "    export_graphviz(\n",
    "        model_dt, \n",
    "        out_file=os.path.join(DOT_PATH, \"dt.dot\"), \n",
    "        class_names=[\"Theft Over\", \"Auto Theft\"],\n",
    "        filled=True,\n",
    "        rounded=True,\n",
    "        special_characters=True\n",
    "    )\n",
    "except Exception as e:\n",
    "    print(f\"Error occured while exporting graph: {str(e)}\")"
   ],
   "id": "a8a96603815b615f",
   "outputs": [],
   "execution_count": 69
  },
  {
   "metadata": {
    "ExecuteTime": {
     "end_time": "2024-12-04T02:46:40.631745Z",
     "start_time": "2024-12-04T02:46:40.627884Z"
    }
   },
   "cell_type": "code",
   "source": [
    "# TODO: Feature Importances Here.\n",
    "# TODO: ROC (Receiver Operation Characteristics) Curve Here.\n",
    "# TODO: ORGANIZE EVERYTHING INTO THEIR SEPARATE SECTIONS!!! (SECTIONS 3 - 5)\n",
    "# TODO: Anything Else thats Missing?"
   ],
   "id": "d8616ce2e9ad47a5",
   "outputs": [],
   "execution_count": 70
  },
  {
   "metadata": {
    "ExecuteTime": {
     "end_time": "2024-11-28T16:59:19.892290Z",
     "start_time": "2024-11-28T16:59:19.677963Z"
    }
   },
   "cell_type": "code",
   "source": "toodu_ft_df.to_csv(os.path.join(DEFAULT_DATA_PATH, \"Theft_Over_Data_Cleaned_Encoded.csv\"), index=False)",
   "id": "ea91c26541f6f732",
   "outputs": [],
   "execution_count": 42
  }
 ],
 "metadata": {
  "kernelspec": {
   "display_name": "Python 3",
   "language": "python",
   "name": "python3"
  },
  "language_info": {
   "codemirror_mode": {
    "name": "ipython",
    "version": 2
   },
   "file_extension": ".py",
   "mimetype": "text/x-python",
   "name": "python",
   "nbconvert_exporter": "python",
   "pygments_lexer": "ipython2",
   "version": "2.7.6"
  }
 },
 "nbformat": 4,
 "nbformat_minor": 5
}
