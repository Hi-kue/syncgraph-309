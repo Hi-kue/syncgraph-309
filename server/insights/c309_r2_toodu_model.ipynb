{
 "cells": [
  {
   "metadata": {},
   "cell_type": "markdown",
   "source": [
    "# Report 2: Theft Over Open Data (TOOD)\n",
    "\n",
    "> This file is intended to be used as references for sections 3 - 5 which all involves model training, \n",
    "> testing, and deployment of the model. Creativity and innovation are encouraged for this and other \n",
    "> sections moving forward.\n",
    "\n",
    "**What is the purpose of this file?**\n",
    "\n",
    "This notebook will be covering parts 3-5 of the assignment namely going over the following:\n",
    "1. Predictive Model Building - Building the Predictive Model using Modules within `sklearn`.\n",
    "2. Model Scoring and Evaluation - Evaluation and Scoring of the Model with Training Data.\n",
    "3. Model Deployment - Deployment of the model as `.pkl` files.\n",
    "\n",
    "**NOTE**: The naming of this notebook is intentionally, as it stands for the following:\n",
    "- `c309` - This is the course code COMP309.\n",
    "- `r2` - This is the report number which is report 2 of the group project.\n",
    "- `toodu` - This is the name of the dataset we named and will continue working with in this notebook.\n",
    "- `model` - This is just a generic name but this notebook will contain sections 3 - 5 which all involves model training, testing, and deployment of the model.\n",
    "\n",
    "**NOTE**: Provided below is a notebook that includes the above sections, thoroughly covering all aspects of sections 3-5. When required, there will be additional informaiton and insights throughout the notebook to help understand the specifics of the model, algorithms used, and how we handle imbalanced data when training the model."
   ],
   "id": "526803cd535af350"
  },
  {
   "metadata": {
    "ExecuteTime": {
     "end_time": "2024-11-21T18:22:16.701023Z",
     "start_time": "2024-11-21T18:22:16.371007Z"
    }
   },
   "cell_type": "code",
   "source": [
    "import os\n",
    "import sys\n",
    "from sklearn.preprocessing import StandardScaler\n",
    "from sklearn.model_selection import train_test_split\n",
    "from sklearn.linear_model import LogisticRegression\n",
    "from sklearn.metrics import accuracy_score, confusion_matrix, classification_report\n",
    "\n",
    "import pandas as pd\n",
    "import numpy as np\n",
    "import matplotlib.pyplot as plt\n",
    "import seaborn as sns"
   ],
   "id": "ffdfd7ff7c9bdb28",
   "outputs": [],
   "execution_count": 1
  },
  {
   "metadata": {},
   "cell_type": "code",
   "outputs": [],
   "execution_count": null,
   "source": "",
   "id": "6dc8c29952b1994f"
  }
 ],
 "metadata": {
  "kernelspec": {
   "display_name": "Python 3",
   "language": "python",
   "name": "python3"
  },
  "language_info": {
   "codemirror_mode": {
    "name": "ipython",
    "version": 2
   },
   "file_extension": ".py",
   "mimetype": "text/x-python",
   "name": "python",
   "nbconvert_exporter": "python",
   "pygments_lexer": "ipython2",
   "version": "2.7.6"
  }
 },
 "nbformat": 4,
 "nbformat_minor": 5
}
